{
 "cells": [
  {
   "cell_type": "code",
   "execution_count": 25,
   "metadata": {},
   "outputs": [],
   "source": [
    "def security(gates: int, students: int, guards: int, ordered_entrances: list) -> str:\n",
    "    control = {}\n",
    "    flag = True\n",
    "    for gate in range(1,gates+1):\n",
    "        control[gate] = 0\n",
    "    for idx in range(len(ordered_entrances)):\n",
    "        temp = ordered_entrances[idx]\n",
    "        if temp in  ordered_entrances[idx+1:]:\n",
    "            control[temp] = 1\n",
    "        else: \n",
    "            control[temp] = 0\n",
    "        if sum(control.values()) > guards:\n",
    "            flag = False\n",
    "    return 'YES' if flag else 'NO'"
   ]
  },
  {
   "cell_type": "code",
   "execution_count": 28,
   "metadata": {},
   "outputs": [
    {
     "data": {
      "text/plain": [
       "'NO'"
      ]
     },
     "execution_count": 28,
     "metadata": {},
     "output_type": "execute_result"
    }
   ],
   "source": [
    "security(2,5,1,[1,2,1,2,2])"
   ]
  },
  {
   "cell_type": "code",
   "execution_count": null,
   "metadata": {},
   "outputs": [],
   "source": []
  }
 ],
 "metadata": {
  "kernelspec": {
   "display_name": "Python 3.10.7 64-bit",
   "language": "python",
   "name": "python3"
  },
  "language_info": {
   "codemirror_mode": {
    "name": "ipython",
    "version": 3
   },
   "file_extension": ".py",
   "mimetype": "text/x-python",
   "name": "python",
   "nbconvert_exporter": "python",
   "pygments_lexer": "ipython3",
   "version": "3.10.7"
  },
  "orig_nbformat": 4,
  "vscode": {
   "interpreter": {
    "hash": "38cdd751ff1a78921eff5cc54f687db2b577836ff9e523662c7eedaeda872ff5"
   }
  }
 },
 "nbformat": 4,
 "nbformat_minor": 2
}
