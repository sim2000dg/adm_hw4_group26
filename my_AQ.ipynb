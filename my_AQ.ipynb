{
 "cells": [
  {
   "cell_type": "code",
   "execution_count": null,
   "metadata": {},
   "outputs": [],
   "source": [
    "# N = entrances to the uni, M = students, G = guards\n",
    "\n",
    "N, M, G = list(map(int, input().split()))\n",
    "\n",
    "# M integers: entry assigned to i-th student\n",
    "\n",
    "students_ord = list(map(int, input().split()))\n",
    "\n",
    "#initialize the guard at 1\n",
    "guards = 1 \n",
    "for i in range(1, len(students)):\n",
    "    if students_ord[i] not in students_ord[:i]:  \n",
    "        if students_ord[i-1] in students_ord[i+1:]:\n",
    "            guards += 1\n",
    "if guards <= G:\n",
    "    print('YES')\n",
    "else:\n",
    "    print('NO')"
   ]
  }
 ],
 "metadata": {
  "kernelspec": {
   "display_name": "Python 3.10.4 64-bit",
   "language": "python",
   "name": "python3"
  },
  "language_info": {
   "codemirror_mode": {
    "name": "ipython",
    "version": 3
   },
   "file_extension": ".py",
   "mimetype": "text/x-python",
   "name": "python",
   "nbconvert_exporter": "python",
   "pygments_lexer": "ipython3",
   "version": "3.10.4"
  },
  "orig_nbformat": 4,
  "vscode": {
   "interpreter": {
    "hash": "7b1456f2aca335b9ab91cb83c73d9aee0dec521fa789fc6405ccc3c14b157346"
   }
  }
 },
 "nbformat": 4,
 "nbformat_minor": 2
}
