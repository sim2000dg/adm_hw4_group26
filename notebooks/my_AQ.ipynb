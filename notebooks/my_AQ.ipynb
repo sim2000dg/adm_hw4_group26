{
 "cells": [
  {
   "cell_type": "code",
   "execution_count": 5,
   "metadata": {},
   "outputs": [],
   "source": [
    "# N = entrances to the uni, M = students, G = guards\n",
    "def security(N: int, M: int, G: int, students_ord: list) -> str:\n",
    "    #initialize the guard at 1\n",
    "    guards = 1 \n",
    "    for i in range(1, len(students_ord)):\n",
    "        if students_ord[i] not in students_ord[:i]:  \n",
    "            if students_ord[i-1] in students_ord[i+1:]:\n",
    "                guards += 1\n",
    "    flag = (guards <= G)\n",
    "    return 'YES' if flag else 'NO'"
   ]
  },
  {
   "cell_type": "code",
   "execution_count": 9,
   "metadata": {},
   "outputs": [
    {
     "data": {
      "text/plain": [
       "'NO'"
      ]
     },
     "execution_count": 9,
     "metadata": {},
     "output_type": "execute_result"
    }
   ],
   "source": [
    "security(2,5,1,[1,2,1,2,2])"
   ]
  },
  {
   "cell_type": "code",
   "execution_count": 11,
   "metadata": {},
   "outputs": [
    {
     "data": {
      "text/plain": [
       "'YES'"
      ]
     },
     "execution_count": 11,
     "metadata": {},
     "output_type": "execute_result"
    }
   ],
   "source": [
    "security(4, 5, 1,[1,1, 3, 3, 3])"
   ]
  },
  {
   "cell_type": "code",
   "execution_count": 13,
   "metadata": {},
   "outputs": [],
   "source": [
    "N, M, G = list(map(int, input().split()))\n",
    "students_ord = list(map(int, input().split()))\n",
    "security(N,M,G,students_ord)"
   ]
  }
 ],
 "metadata": {
  "kernelspec": {
   "display_name": "Python 3.9.7 ('base')",
   "language": "python",
   "name": "python3"
  },
  "language_info": {
   "codemirror_mode": {
    "name": "ipython",
    "version": 3
   },
   "file_extension": ".py",
   "mimetype": "text/x-python",
   "name": "python",
   "nbconvert_exporter": "python",
   "pygments_lexer": "ipython3",
   "version": "3.9.7"
  },
  "orig_nbformat": 4,
  "vscode": {
   "interpreter": {
    "hash": "28ea75b7d9dd5b325cb9a751dc34da71a10f8944bac9b4ff454d9595cb15b82f"
   }
  }
 },
 "nbformat": 4,
 "nbformat_minor": 2
}
