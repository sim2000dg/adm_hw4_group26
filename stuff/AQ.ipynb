{
 "cells": [
  {
   "cell_type": "code",
   "execution_count": 32,
   "metadata": {},
   "outputs": [],
   "source": [
    "def security(gates: int, students: int, guards: int, ordered_entrances: list) -> str:\n",
    "    assigned_guards = []\n",
    "    flag = guards\n",
    "    idx = 0\n",
    "    warning = []\n",
    "    while len(assigned_guards) < guards:\n",
    "        if ordered_entrances[idx] not in assigned_guards:\n",
    "            assigned_guards.append(ordered_entrances[idx])\n",
    "        idx += 1\n",
    "    \n",
    "    tba = []\n",
    "    \n",
    "    for gate in set(ordered_entrances[idx:]):\n",
    "        if gate not in assigned_guards and gate not in tba:\n",
    "            tba.append(gate)\n",
    "        elif gate in assigned_guards:\n",
    "            flag -= 1\n",
    "            \n",
    "    if flag >= len(tba):\n",
    "        return 'YES'\n",
    "    else:\n",
    "        return 'NO'"
   ]
  },
  {
   "cell_type": "code",
   "execution_count": 31,
   "metadata": {},
   "outputs": [
    {
     "data": {
      "text/plain": [
       "1"
      ]
     },
     "execution_count": 31,
     "metadata": {},
     "output_type": "execute_result"
    }
   ],
   "source": [
    "security(4,15,3,[1,2,1,2,3,4,1,2,1,2])"
   ]
  },
  {
   "cell_type": "code",
   "execution_count": null,
   "metadata": {},
   "outputs": [],
   "source": []
  }
 ],
 "metadata": {
  "kernelspec": {
   "display_name": "Python 3.10.7 64-bit",
   "language": "python",
   "name": "python3"
  },
  "language_info": {
   "codemirror_mode": {
    "name": "ipython",
    "version": 3
   },
   "file_extension": ".py",
   "mimetype": "text/x-python",
   "name": "python",
   "nbconvert_exporter": "python",
   "pygments_lexer": "ipython3",
   "version": "3.10.7"
  },
  "orig_nbformat": 4,
  "vscode": {
   "interpreter": {
    "hash": "38cdd751ff1a78921eff5cc54f687db2b577836ff9e523662c7eedaeda872ff5"
   }
  }
 },
 "nbformat": 4,
 "nbformat_minor": 2
}
