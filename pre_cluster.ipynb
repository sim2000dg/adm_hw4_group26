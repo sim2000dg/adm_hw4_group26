{
 "cells": [
  {
   "cell_type": "code",
   "execution_count": 2,
   "metadata": {},
   "outputs": [],
   "source": [
    "import pandas as pd\n",
    "import numpy as np\n",
    "from matplotlib import pyplot as plt\n",
    "from datetime import datetime"
   ]
  },
  {
   "cell_type": "markdown",
   "metadata": {},
   "source": [
    "# 2. Grouping customers together!"
   ]
  },
  {
   "cell_type": "markdown",
   "metadata": {},
   "source": [
    "### 2.1.1 Get the data + Feature engineering"
   ]
  },
  {
   "cell_type": "code",
   "execution_count": 5,
   "metadata": {},
   "outputs": [],
   "source": [
    "data = pd.read_csv('bank_transactions.csv')"
   ]
  },
  {
   "cell_type": "markdown",
   "metadata": {},
   "source": [
    "Some basic data cleaning."
   ]
  },
  {
   "cell_type": "code",
   "execution_count": 7,
   "metadata": {},
   "outputs": [],
   "source": [
    "data = data.dropna()\n",
    "data.CustomerDOB = pd.to_datetime(data.CustomerDOB)"
   ]
  },
  {
   "cell_type": "code",
   "execution_count": 8,
   "metadata": {},
   "outputs": [],
   "source": [
    "def convert_time(value):\n",
    "    sec = value % 100\n",
    "    minutes = (value//100)%100\n",
    "    hours = (value//10000)%100\n",
    "    date = str(hours)+\":\"+str(minutes)+\":\"+str(sec)\n",
    "    datetime_object = datetime.strptime(date,'%H:%M:%S').time()\n",
    "    return datetime_object"
   ]
  },
  {
   "cell_type": "code",
   "execution_count": 9,
   "metadata": {},
   "outputs": [],
   "source": [
    "data.TransactionTime = data.TransactionTime.apply(lambda x: convert_time(int(x)))"
   ]
  },
  {
   "cell_type": "code",
   "execution_count": 10,
   "metadata": {},
   "outputs": [],
   "source": [
    "data.TransactionDate = pd.to_datetime(data.TransactionDate)"
   ]
  },
  {
   "cell_type": "code",
   "execution_count": 11,
   "metadata": {},
   "outputs": [
    {
     "data": {
      "text/html": [
       "<div>\n",
       "<style scoped>\n",
       "    .dataframe tbody tr th:only-of-type {\n",
       "        vertical-align: middle;\n",
       "    }\n",
       "\n",
       "    .dataframe tbody tr th {\n",
       "        vertical-align: top;\n",
       "    }\n",
       "\n",
       "    .dataframe thead th {\n",
       "        text-align: right;\n",
       "    }\n",
       "</style>\n",
       "<table border=\"1\" class=\"dataframe\">\n",
       "  <thead>\n",
       "    <tr style=\"text-align: right;\">\n",
       "      <th></th>\n",
       "      <th>TransactionID</th>\n",
       "      <th>CustomerID</th>\n",
       "      <th>CustomerDOB</th>\n",
       "      <th>CustGender</th>\n",
       "      <th>CustLocation</th>\n",
       "      <th>CustAccountBalance</th>\n",
       "      <th>TransactionDate</th>\n",
       "      <th>TransactionTime</th>\n",
       "      <th>TransactionAmount (INR)</th>\n",
       "    </tr>\n",
       "  </thead>\n",
       "  <tbody>\n",
       "    <tr>\n",
       "      <th>0</th>\n",
       "      <td>T1</td>\n",
       "      <td>C5841053</td>\n",
       "      <td>1994-10-01</td>\n",
       "      <td>F</td>\n",
       "      <td>JAMSHEDPUR</td>\n",
       "      <td>17819.05</td>\n",
       "      <td>2016-02-08</td>\n",
       "      <td>14:32:07</td>\n",
       "      <td>25.0</td>\n",
       "    </tr>\n",
       "    <tr>\n",
       "      <th>1</th>\n",
       "      <td>T2</td>\n",
       "      <td>C2142763</td>\n",
       "      <td>2057-04-04</td>\n",
       "      <td>M</td>\n",
       "      <td>JHAJJAR</td>\n",
       "      <td>2270.69</td>\n",
       "      <td>2016-02-08</td>\n",
       "      <td>14:18:58</td>\n",
       "      <td>27999.0</td>\n",
       "    </tr>\n",
       "    <tr>\n",
       "      <th>2</th>\n",
       "      <td>T3</td>\n",
       "      <td>C4417068</td>\n",
       "      <td>1996-11-26</td>\n",
       "      <td>F</td>\n",
       "      <td>MUMBAI</td>\n",
       "      <td>17874.44</td>\n",
       "      <td>2016-02-08</td>\n",
       "      <td>14:27:12</td>\n",
       "      <td>459.0</td>\n",
       "    </tr>\n",
       "    <tr>\n",
       "      <th>3</th>\n",
       "      <td>T4</td>\n",
       "      <td>C5342380</td>\n",
       "      <td>1973-09-14</td>\n",
       "      <td>F</td>\n",
       "      <td>MUMBAI</td>\n",
       "      <td>866503.21</td>\n",
       "      <td>2016-02-08</td>\n",
       "      <td>14:27:14</td>\n",
       "      <td>2060.0</td>\n",
       "    </tr>\n",
       "    <tr>\n",
       "      <th>4</th>\n",
       "      <td>T5</td>\n",
       "      <td>C9031234</td>\n",
       "      <td>1988-03-24</td>\n",
       "      <td>F</td>\n",
       "      <td>NAVI MUMBAI</td>\n",
       "      <td>6714.43</td>\n",
       "      <td>2016-02-08</td>\n",
       "      <td>18:11:56</td>\n",
       "      <td>1762.5</td>\n",
       "    </tr>\n",
       "  </tbody>\n",
       "</table>\n",
       "</div>"
      ],
      "text/plain": [
       "  TransactionID CustomerID CustomerDOB CustGender CustLocation  \\\n",
       "0            T1   C5841053  1994-10-01          F   JAMSHEDPUR   \n",
       "1            T2   C2142763  2057-04-04          M      JHAJJAR   \n",
       "2            T3   C4417068  1996-11-26          F       MUMBAI   \n",
       "3            T4   C5342380  1973-09-14          F       MUMBAI   \n",
       "4            T5   C9031234  1988-03-24          F  NAVI MUMBAI   \n",
       "\n",
       "   CustAccountBalance TransactionDate TransactionTime  TransactionAmount (INR)  \n",
       "0            17819.05      2016-02-08        14:32:07                     25.0  \n",
       "1             2270.69      2016-02-08        14:18:58                  27999.0  \n",
       "2            17874.44      2016-02-08        14:27:12                    459.0  \n",
       "3           866503.21      2016-02-08        14:27:14                   2060.0  \n",
       "4             6714.43      2016-02-08        18:11:56                   1762.5  "
      ]
     },
     "execution_count": 11,
     "metadata": {},
     "output_type": "execute_result"
    }
   ],
   "source": [
    "data.head()"
   ]
  },
  {
   "cell_type": "code",
   "execution_count": 12,
   "metadata": {},
   "outputs": [],
   "source": [
    "data.drop(data[data.CustomerDOB.dt.year == 1800].index, axis=0, inplace=True)"
   ]
  },
  {
   "cell_type": "code",
   "execution_count": null,
   "metadata": {},
   "outputs": [
    {
     "name": "stdout",
     "output_type": "stream",
     "text": [
      "<class 'pandas.core.frame.DataFrame'>\n",
      "Int64Index: 985322 entries, 0 to 1048566\n",
      "Data columns (total 9 columns):\n",
      " #   Column                   Non-Null Count   Dtype         \n",
      "---  ------                   --------------   -----         \n",
      " 0   TransactionID            985322 non-null  object        \n",
      " 1   CustomerID               985322 non-null  object        \n",
      " 2   CustomerDOB              985322 non-null  datetime64[ns]\n",
      " 3   CustGender               985322 non-null  object        \n",
      " 4   CustLocation             985322 non-null  object        \n",
      " 5   CustAccountBalance       985322 non-null  float64       \n",
      " 6   TransactionDate          985322 non-null  datetime64[ns]\n",
      " 7   TransactionTime          985322 non-null  object        \n",
      " 8   TransactionAmount (INR)  985322 non-null  float64       \n",
      "dtypes: datetime64[ns](2), float64(2), object(5)\n",
      "memory usage: 75.2+ MB\n"
     ]
    }
   ],
   "source": [
    "data.info()"
   ]
  },
  {
   "cell_type": "code",
   "execution_count": 13,
   "metadata": {},
   "outputs": [],
   "source": [
    "data.loc[data.CustomerDOB.dt.year > 2000, 'CustomerDOB'] = data.loc[data.CustomerDOB.dt.year > 2000, 'CustomerDOB'] - pd.DateOffset(years = 100)"
   ]
  },
  {
   "cell_type": "markdown",
   "metadata": {},
   "source": [
    "To convert indian rupies in usd"
   ]
  },
  {
   "cell_type": "code",
   "execution_count": 14,
   "metadata": {},
   "outputs": [],
   "source": [
    "data['CustAccountBalance'] = data['CustAccountBalance'].apply(lambda x: x*0.012)\n",
    "data['TransactionAmount (INR)'] = data['TransactionAmount (INR)'].apply(lambda x: x*0.012)"
   ]
  },
  {
   "cell_type": "code",
   "execution_count": 70,
   "metadata": {},
   "outputs": [],
   "source": [
    "data.to_csv('cleaned_data.csv',index=False)"
   ]
  },
  {
   "cell_type": "code",
   "execution_count": 155,
   "metadata": {},
   "outputs": [
    {
     "name": "stdout",
     "output_type": "stream",
     "text": [
      "<class 'pandas.core.frame.DataFrame'>\n",
      "Int64Index: 985322 entries, 0 to 1048566\n",
      "Data columns (total 9 columns):\n",
      " #   Column                   Non-Null Count   Dtype         \n",
      "---  ------                   --------------   -----         \n",
      " 0   TransactionID            985322 non-null  object        \n",
      " 1   CustomerID               985322 non-null  object        \n",
      " 2   CustomerDOB              985322 non-null  datetime64[ns]\n",
      " 3   CustGender               985322 non-null  object        \n",
      " 4   CustLocation             985322 non-null  object        \n",
      " 5   CustAccountBalance       985322 non-null  float64       \n",
      " 6   TransactionDate          985322 non-null  datetime64[ns]\n",
      " 7   TransactionTime          985322 non-null  object        \n",
      " 8   TransactionAmount (INR)  985322 non-null  float64       \n",
      "dtypes: datetime64[ns](2), float64(2), object(5)\n",
      "memory usage: 75.2+ MB\n"
     ]
    }
   ],
   "source": [
    "data.info()"
   ]
  },
  {
   "cell_type": "markdown",
   "metadata": {},
   "source": [
    "Now we need to build a customer-view of the data. "
   ]
  },
  {
   "cell_type": "markdown",
   "metadata": {},
   "source": [
    "##### a) Number of transactions"
   ]
  },
  {
   "cell_type": "code",
   "execution_count": 15,
   "metadata": {},
   "outputs": [],
   "source": [
    "num_transactions = data\\\n",
    "                   .groupby('CustomerID',as_index=False)\\\n",
    "                   .count()[['CustomerID','TransactionID']]\\\n",
    "                   .rename(columns={'TransactionID':'Number of transactions'})"
   ]
  },
  {
   "cell_type": "markdown",
   "metadata": {},
   "source": [
    "##### b) Number of transactions with a balance bigger than 100 USD"
   ]
  },
  {
   "cell_type": "code",
   "execution_count": 16,
   "metadata": {},
   "outputs": [],
   "source": [
    "high_transactions = data[data['CustAccountBalance'] > 100]\\\n",
    "                    .groupby('CustomerID', as_index=False)\\\n",
    "                    .count()[['CustomerID','TransactionID']]\\\n",
    "                    .rename(columns={'TransactionID':'Number of high volume transactions'})"
   ]
  },
  {
   "cell_type": "markdown",
   "metadata": {},
   "source": [
    "##### c) Average amount of the transactions"
   ]
  },
  {
   "cell_type": "code",
   "execution_count": 17,
   "metadata": {},
   "outputs": [],
   "source": [
    "average_transactions = data\\\n",
    "                       .groupby('CustomerID', as_index=False)\\\n",
    "                       .mean()[['CustomerID','TransactionAmount (INR)']]\\\n",
    "                       .rename(columns={'TransactionAmount (INR)':'AVG Transaction'})"
   ]
  },
  {
   "cell_type": "markdown",
   "metadata": {},
   "source": [
    "##### d) Average balance"
   ]
  },
  {
   "cell_type": "code",
   "execution_count": 18,
   "metadata": {},
   "outputs": [],
   "source": [
    "average_balance = data\\\n",
    "                  .groupby('CustomerID', as_index = False)\\\n",
    "                  .mean()[['CustomerID','CustAccountBalance']]\\\n",
    "                  .rename(columns={'CustAccountBalance':'AVG Balance'})"
   ]
  },
  {
   "cell_type": "markdown",
   "metadata": {},
   "source": [
    "##### e) Average difference between the balance and the transaction amount for each customer "
   ]
  },
  {
   "cell_type": "code",
   "execution_count": 19,
   "metadata": {},
   "outputs": [],
   "source": [
    "data['Utilization'] = data['CustAccountBalance'] - data['TransactionAmount (INR)']"
   ]
  },
  {
   "cell_type": "code",
   "execution_count": 20,
   "metadata": {},
   "outputs": [],
   "source": [
    "average_utilization = data\\\n",
    "                      .groupby('CustomerID', as_index = False)\\\n",
    "                      .mean()[['CustomerID','Utilization']]\\\n",
    "                      .rename(columns={'Utilization':'AVG Utilization'})"
   ]
  },
  {
   "cell_type": "markdown",
   "metadata": {},
   "source": [
    "##### f) Most common gender of the customer"
   ]
  },
  {
   "cell_type": "code",
   "execution_count": 22,
   "metadata": {},
   "outputs": [],
   "source": [
    "most_common_gender = data\\\n",
    "                     .groupby('CustomerID', as_index=False)['CustGender']\\\n",
    "                     .apply(lambda x: x.mode().iat[0])\\\n",
    "                     .rename(columns={'CustGender':'Most common gender'})"
   ]
  },
  {
   "cell_type": "markdown",
   "metadata": {},
   "source": [
    "##### h) Most frequent location of the customer\n",
    "\n"
   ]
  },
  {
   "cell_type": "code",
   "execution_count": 23,
   "metadata": {},
   "outputs": [],
   "source": [
    "most_common_location = data\\\n",
    "                       .groupby('CustomerID', as_index=False)['CustLocation']\\\n",
    "                       .apply(lambda x: x.mode().iat[0])\\\n",
    "                       .rename(columns={'CustLocation':'Most frequent location'})"
   ]
  },
  {
   "cell_type": "markdown",
   "metadata": {},
   "source": [
    "Now we can concatenate our datasets to build a customer view of our transaction-data. "
   ]
  },
  {
   "cell_type": "code",
   "execution_count": 24,
   "metadata": {},
   "outputs": [],
   "source": [
    "customer_view = num_transactions\\\n",
    "                .merge(high_transactions, how='left')\\\n",
    "                .merge(average_transactions)\\\n",
    "                .merge(average_balance)\\\n",
    "                .merge(average_utilization)\\\n",
    "                .merge(most_common_gender)\\\n",
    "                .merge(most_common_location)"
   ]
  },
  {
   "cell_type": "code",
   "execution_count": 25,
   "metadata": {},
   "outputs": [],
   "source": [
    "customer_view.fillna(0,inplace=True)"
   ]
  },
  {
   "cell_type": "code",
   "execution_count": 26,
   "metadata": {},
   "outputs": [],
   "source": [
    "customer_view.to_csv('customer_view.csv', index=False)"
   ]
  },
  {
   "cell_type": "code",
   "execution_count": 82,
   "metadata": {},
   "outputs": [],
   "source": [
    "customer_view = pd.read_csv('customer_view.csv')"
   ]
  },
  {
   "cell_type": "code",
   "execution_count": 27,
   "metadata": {},
   "outputs": [
    {
     "data": {
      "text/html": [
       "<div>\n",
       "<style scoped>\n",
       "    .dataframe tbody tr th:only-of-type {\n",
       "        vertical-align: middle;\n",
       "    }\n",
       "\n",
       "    .dataframe tbody tr th {\n",
       "        vertical-align: top;\n",
       "    }\n",
       "\n",
       "    .dataframe thead th {\n",
       "        text-align: right;\n",
       "    }\n",
       "</style>\n",
       "<table border=\"1\" class=\"dataframe\">\n",
       "  <thead>\n",
       "    <tr style=\"text-align: right;\">\n",
       "      <th></th>\n",
       "      <th>CustomerID</th>\n",
       "      <th>Number of transactions</th>\n",
       "      <th>Number of high volume transactions</th>\n",
       "      <th>AVG Transaction</th>\n",
       "      <th>AVG Balance</th>\n",
       "      <th>AVG Utilization</th>\n",
       "      <th>Most common gender</th>\n",
       "      <th>Most frequent location</th>\n",
       "    </tr>\n",
       "  </thead>\n",
       "  <tbody>\n",
       "    <tr>\n",
       "      <th>0</th>\n",
       "      <td>C1010011</td>\n",
       "      <td>2</td>\n",
       "      <td>2.0</td>\n",
       "      <td>30.636</td>\n",
       "      <td>916.08762</td>\n",
       "      <td>885.45162</td>\n",
       "      <td>F</td>\n",
       "      <td>NEW DELHI</td>\n",
       "    </tr>\n",
       "    <tr>\n",
       "      <th>1</th>\n",
       "      <td>C1010012</td>\n",
       "      <td>1</td>\n",
       "      <td>1.0</td>\n",
       "      <td>17.988</td>\n",
       "      <td>290.45388</td>\n",
       "      <td>272.46588</td>\n",
       "      <td>M</td>\n",
       "      <td>MUMBAI</td>\n",
       "    </tr>\n",
       "    <tr>\n",
       "      <th>2</th>\n",
       "      <td>C1010014</td>\n",
       "      <td>2</td>\n",
       "      <td>2.0</td>\n",
       "      <td>8.730</td>\n",
       "      <td>1201.35540</td>\n",
       "      <td>1192.62540</td>\n",
       "      <td>F</td>\n",
       "      <td>MUMBAI</td>\n",
       "    </tr>\n",
       "    <tr>\n",
       "      <th>3</th>\n",
       "      <td>C1010018</td>\n",
       "      <td>1</td>\n",
       "      <td>0.0</td>\n",
       "      <td>0.360</td>\n",
       "      <td>5.95416</td>\n",
       "      <td>5.59416</td>\n",
       "      <td>F</td>\n",
       "      <td>CHAMPARAN</td>\n",
       "    </tr>\n",
       "    <tr>\n",
       "      <th>4</th>\n",
       "      <td>C1010024</td>\n",
       "      <td>1</td>\n",
       "      <td>1.0</td>\n",
       "      <td>60.000</td>\n",
       "      <td>1044.70380</td>\n",
       "      <td>984.70380</td>\n",
       "      <td>M</td>\n",
       "      <td>KOLKATA</td>\n",
       "    </tr>\n",
       "    <tr>\n",
       "      <th>...</th>\n",
       "      <td>...</td>\n",
       "      <td>...</td>\n",
       "      <td>...</td>\n",
       "      <td>...</td>\n",
       "      <td>...</td>\n",
       "      <td>...</td>\n",
       "      <td>...</td>\n",
       "      <td>...</td>\n",
       "    </tr>\n",
       "    <tr>\n",
       "      <th>839076</th>\n",
       "      <td>C9099836</td>\n",
       "      <td>1</td>\n",
       "      <td>1.0</td>\n",
       "      <td>8.292</td>\n",
       "      <td>1596.80676</td>\n",
       "      <td>1588.51476</td>\n",
       "      <td>M</td>\n",
       "      <td>BHIWANDI</td>\n",
       "    </tr>\n",
       "    <tr>\n",
       "      <th>839077</th>\n",
       "      <td>C9099877</td>\n",
       "      <td>1</td>\n",
       "      <td>1.0</td>\n",
       "      <td>2.664</td>\n",
       "      <td>1152.76152</td>\n",
       "      <td>1150.09752</td>\n",
       "      <td>M</td>\n",
       "      <td>BANGALORE</td>\n",
       "    </tr>\n",
       "    <tr>\n",
       "      <th>839078</th>\n",
       "      <td>C9099919</td>\n",
       "      <td>1</td>\n",
       "      <td>0.0</td>\n",
       "      <td>1.512</td>\n",
       "      <td>66.71700</td>\n",
       "      <td>65.20500</td>\n",
       "      <td>M</td>\n",
       "      <td>GUNTUR</td>\n",
       "    </tr>\n",
       "    <tr>\n",
       "      <th>839079</th>\n",
       "      <td>C9099941</td>\n",
       "      <td>1</td>\n",
       "      <td>1.0</td>\n",
       "      <td>0.600</td>\n",
       "      <td>423.55104</td>\n",
       "      <td>422.95104</td>\n",
       "      <td>M</td>\n",
       "      <td>CHENNAI</td>\n",
       "    </tr>\n",
       "    <tr>\n",
       "      <th>839080</th>\n",
       "      <td>C9099956</td>\n",
       "      <td>1</td>\n",
       "      <td>0.0</td>\n",
       "      <td>10.260</td>\n",
       "      <td>83.62716</td>\n",
       "      <td>73.36716</td>\n",
       "      <td>M</td>\n",
       "      <td>MUSSOORIE</td>\n",
       "    </tr>\n",
       "  </tbody>\n",
       "</table>\n",
       "<p>839081 rows × 8 columns</p>\n",
       "</div>"
      ],
      "text/plain": [
       "       CustomerID  Number of transactions  Number of high volume transactions  \\\n",
       "0        C1010011                       2                                 2.0   \n",
       "1        C1010012                       1                                 1.0   \n",
       "2        C1010014                       2                                 2.0   \n",
       "3        C1010018                       1                                 0.0   \n",
       "4        C1010024                       1                                 1.0   \n",
       "...           ...                     ...                                 ...   \n",
       "839076   C9099836                       1                                 1.0   \n",
       "839077   C9099877                       1                                 1.0   \n",
       "839078   C9099919                       1                                 0.0   \n",
       "839079   C9099941                       1                                 1.0   \n",
       "839080   C9099956                       1                                 0.0   \n",
       "\n",
       "        AVG Transaction  AVG Balance  AVG Utilization Most common gender  \\\n",
       "0                30.636    916.08762        885.45162                  F   \n",
       "1                17.988    290.45388        272.46588                  M   \n",
       "2                 8.730   1201.35540       1192.62540                  F   \n",
       "3                 0.360      5.95416          5.59416                  F   \n",
       "4                60.000   1044.70380        984.70380                  M   \n",
       "...                 ...          ...              ...                ...   \n",
       "839076            8.292   1596.80676       1588.51476                  M   \n",
       "839077            2.664   1152.76152       1150.09752                  M   \n",
       "839078            1.512     66.71700         65.20500                  M   \n",
       "839079            0.600    423.55104        422.95104                  M   \n",
       "839080           10.260     83.62716         73.36716                  M   \n",
       "\n",
       "       Most frequent location  \n",
       "0                   NEW DELHI  \n",
       "1                      MUMBAI  \n",
       "2                      MUMBAI  \n",
       "3                   CHAMPARAN  \n",
       "4                     KOLKATA  \n",
       "...                       ...  \n",
       "839076               BHIWANDI  \n",
       "839077              BANGALORE  \n",
       "839078                 GUNTUR  \n",
       "839079                CHENNAI  \n",
       "839080              MUSSOORIE  \n",
       "\n",
       "[839081 rows x 8 columns]"
      ]
     },
     "execution_count": 27,
     "metadata": {},
     "output_type": "execute_result"
    }
   ],
   "source": [
    "customer_view"
   ]
  },
  {
   "cell_type": "markdown",
   "metadata": {},
   "source": [
    "#### ***Feature engineering: 20 new features***"
   ]
  },
  {
   "cell_type": "markdown",
   "metadata": {},
   "source": [
    "The feature we defined are the following ones:\n",
    "1) Customer age, leveraging one of the recorded dates of birthday\n",
    "2) The transaction with the highest volume\n",
    "3) The transaction with the lowest volume\n",
    "4) The number of transactions recorded in New Delhi, \n",
    "5) The number of transactions recorded in Mumbai \n",
    "6) The number of transactions recorded in Bangalore\n",
    "7) The day of the week in which each costumer made the most of his transactions\n",
    "8) The month in which each costumer made the most of his transactions\n",
    "9) The highest recorded value of his balance\n",
    "10) The lowest recorded value of his balance\n",
    "11) The number of transactions made when the balance was higher than its average\n",
    "12) The highest recorded utilization\n",
    "13) The lowest recorded utilization\n",
    "14) The date of the last recorded transaction\n",
    "15) The date of the first recorded transaction\n",
    "16) The mean time between two transactions\n",
    "17) The ration between the last recorded value for balance and the first recorded value for balance\n",
    "18) The number of transactions higher than 1000 USD\n",
    "19) The hour of the day when the customer made the most of his transactions\n",
    "20) For each customer, the percentage of transactions made by female over the whole volume of transactions"
   ]
  },
  {
   "cell_type": "markdown",
   "metadata": {},
   "source": [
    "Customer Age"
   ]
  },
  {
   "cell_type": "code",
   "execution_count": 28,
   "metadata": {},
   "outputs": [],
   "source": [
    "data['CustomerAge'] = (( pd.to_datetime('today') - data.CustomerDOB ) / np.timedelta64(1, 'Y')).round(0)\n",
    "data['CustomerAge'] = data['CustomerAge'].astype(int)\n",
    "\n",
    "customer_view = customer_view.merge(data[['CustomerID','CustomerAge']], how='left')\n",
    "\n",
    "customer_view = customer_view.drop_duplicates(subset=['CustomerID'])"
   ]
  },
  {
   "cell_type": "markdown",
   "metadata": {},
   "source": [
    "Max transactions ever done"
   ]
  },
  {
   "cell_type": "code",
   "execution_count": 29,
   "metadata": {},
   "outputs": [],
   "source": [
    "max_transactions = data[['CustomerID','TransactionAmount (INR)']]\\\n",
    "                    .groupby('CustomerID', as_index=False)\\\n",
    "                    .max()\\\n",
    "                    .rename(columns={'TransactionAmount (INR)':'MAX Transaction'})\n",
    "                    \n",
    "customer_view = customer_view.merge(max_transactions)"
   ]
  },
  {
   "cell_type": "markdown",
   "metadata": {},
   "source": [
    "Min transaction\n"
   ]
  },
  {
   "cell_type": "code",
   "execution_count": 30,
   "metadata": {},
   "outputs": [],
   "source": [
    "min_transactions = data[['CustomerID','TransactionAmount (INR)']]\\\n",
    "                    .groupby('CustomerID', as_index=False)\\\n",
    "                    .min()\\\n",
    "                    .rename(columns={'TransactionAmount (INR)':'MIN Transaction'})\n",
    "                    \n",
    "customer_view = customer_view.merge(min_transactions)"
   ]
  },
  {
   "cell_type": "markdown",
   "metadata": {},
   "source": [
    "Number of visits in New Delhi "
   ]
  },
  {
   "cell_type": "code",
   "execution_count": 31,
   "metadata": {},
   "outputs": [],
   "source": [
    "visits_new_delhi = data[data.CustLocation == 'NEW DELHI'][['CustomerID','CustLocation']]\\\n",
    "                   .groupby('CustomerID', as_index=False)\\\n",
    "                   .count()\\\n",
    "                   .rename(columns={'CustLocation':'Number of visits in New Delhi'})\n",
    "                   \n",
    "customer_view = customer_view.merge(visits_new_delhi, how='left')\n"
   ]
  },
  {
   "cell_type": "markdown",
   "metadata": {},
   "source": [
    "Number of visits in Mumbai"
   ]
  },
  {
   "cell_type": "code",
   "execution_count": 32,
   "metadata": {},
   "outputs": [],
   "source": [
    "visits_mumbai = data[data.CustLocation == 'MUMBAI'][['CustomerID','CustLocation']]\\\n",
    "                .groupby('CustomerID', as_index=False)\\\n",
    "                .count()\\\n",
    "                .rename(columns={'CustLocation':'Number of visits in Mumbai'})\n",
    "                \n",
    "customer_view = customer_view.merge(visits_mumbai, how='left')"
   ]
  },
  {
   "cell_type": "markdown",
   "metadata": {},
   "source": [
    "Number of visits in Bangalore. "
   ]
  },
  {
   "cell_type": "code",
   "execution_count": 33,
   "metadata": {},
   "outputs": [],
   "source": [
    "visits_bangalore = data[data.CustLocation == 'BANGALORE'][['CustomerID','CustLocation']]\\\n",
    "                    .groupby('CustomerID', as_index=False)\\\n",
    "                    .count()\\\n",
    "                    .rename(columns={'CustLocation':'Number of visits in Bangalore'})\n",
    "\n",
    "customer_view = customer_view.merge(visits_bangalore, how='left')"
   ]
  },
  {
   "cell_type": "markdown",
   "metadata": {},
   "source": [
    "Day of the week in which he does the most of transactions. "
   ]
  },
  {
   "cell_type": "code",
   "execution_count": 34,
   "metadata": {},
   "outputs": [],
   "source": [
    "data['Day of the week'] = data.TransactionDate.dt.dayofweek\n",
    "\n",
    "favourite_day = data\\\n",
    "                .groupby('CustomerID', as_index = False)['Day of the week']\\\n",
    "                .apply(lambda x: x.mode().iat[0])\\\n",
    "                .rename(columns={'Day of the week':'Favourite day of the week'})\n",
    "                \n",
    "customer_view = customer_view.merge(favourite_day)"
   ]
  },
  {
   "cell_type": "markdown",
   "metadata": {},
   "source": [
    "Max balance"
   ]
  },
  {
   "cell_type": "code",
   "execution_count": 35,
   "metadata": {},
   "outputs": [],
   "source": [
    "max_balance = data[['CustomerID','CustAccountBalance']]\\\n",
    "                .groupby('CustomerID', as_index = False)\\\n",
    "                    .max()\\\n",
    "                        .rename(columns={'CustAccountBalance':'Max Balance'})\n",
    "                        \n",
    "customer_view = customer_view.merge(max_balance)"
   ]
  },
  {
   "cell_type": "markdown",
   "metadata": {},
   "source": [
    "Min balance"
   ]
  },
  {
   "cell_type": "code",
   "execution_count": 36,
   "metadata": {},
   "outputs": [],
   "source": [
    "min_balance = data[['CustomerID','CustAccountBalance']]\\\n",
    "                .groupby('CustomerID', as_index = False)\\\n",
    "                    .min()\\\n",
    "                        .rename(columns={'CustAccountBalance':'Min Balance'})\n",
    "                        \n",
    "customer_view = customer_view.merge(min_balance)"
   ]
  },
  {
   "cell_type": "markdown",
   "metadata": {},
   "source": [
    "Month with the most recorded transactions"
   ]
  },
  {
   "cell_type": "code",
   "execution_count": 37,
   "metadata": {},
   "outputs": [],
   "source": [
    "data['Month'] = data.TransactionDate.dt.month\n",
    "\n",
    "favourite_month = data\\\n",
    "                .groupby('CustomerID', as_index = False)['Month']\\\n",
    "                .apply(lambda x: x.mode().iat[0])\\\n",
    "                .rename(columns={'Month':'Favourite Month'})\n",
    "                \n",
    "customer_view = customer_view.merge(favourite_month)"
   ]
  },
  {
   "cell_type": "markdown",
   "metadata": {},
   "source": [
    "Number of transactions when balance was over the mean balance."
   ]
  },
  {
   "cell_type": "code",
   "execution_count": 38,
   "metadata": {},
   "outputs": [],
   "source": [
    "data = data.merge(customer_view[['CustomerID','AVG Balance']], how='left')\n",
    "\n",
    "useful_view = data[data.CustAccountBalance > data['AVG Balance']]\n",
    "\n",
    "filtered_mean_balance_transactions = useful_view[['CustomerID','TransactionID']]\\\n",
    "                                        .groupby('CustomerID', as_index=0)\\\n",
    "                                            .count()\\\n",
    "                                                .rename(columns={'TransactionID':'Transaction when balance higher than the AVG'})\n",
    "                                                \n",
    "customer_view = customer_view.merge(filtered_mean_balance_transactions, how ='left')"
   ]
  },
  {
   "cell_type": "markdown",
   "metadata": {},
   "source": [
    "Max utilization"
   ]
  },
  {
   "cell_type": "code",
   "execution_count": 39,
   "metadata": {},
   "outputs": [],
   "source": [
    "max_utilization = data[['CustomerID','Utilization']]\\\n",
    "                .groupby('CustomerID', as_index = False)\\\n",
    "                    .max()\\\n",
    "                        .rename(columns={'Utilization':'Max Utilization'})\n",
    "                        \n",
    "customer_view = customer_view.merge(max_utilization)"
   ]
  },
  {
   "cell_type": "markdown",
   "metadata": {},
   "source": [
    "Min utilization"
   ]
  },
  {
   "cell_type": "code",
   "execution_count": 40,
   "metadata": {},
   "outputs": [],
   "source": [
    "min_utilization = data[['CustomerID','Utilization']]\\\n",
    "                .groupby('CustomerID', as_index = False)\\\n",
    "                    .min()\\\n",
    "                        .rename(columns={'Utilization':'Min Utilization'})\n",
    "                        \n",
    "customer_view = customer_view.merge(min_utilization)"
   ]
  },
  {
   "cell_type": "markdown",
   "metadata": {},
   "source": [
    "Last transaction"
   ]
  },
  {
   "cell_type": "code",
   "execution_count": 41,
   "metadata": {},
   "outputs": [],
   "source": [
    "last_transactions = data[['CustomerID','TransactionDate']]\\\n",
    "                                    .groupby('CustomerID', as_index=False)\\\n",
    "                                        .max()\\\n",
    "                                            .rename(columns={'TransactionDate':'Last transaction'})\n",
    "                                            \n",
    "customer_view = customer_view.merge(last_transactions)"
   ]
  },
  {
   "cell_type": "markdown",
   "metadata": {},
   "source": [
    "First transaction"
   ]
  },
  {
   "cell_type": "code",
   "execution_count": 42,
   "metadata": {},
   "outputs": [],
   "source": [
    "first_transactions = data[['CustomerID','TransactionDate']]\\\n",
    "                                    .groupby('CustomerID', as_index=False)\\\n",
    "                                        .min()\\\n",
    "                                            .rename(columns={'TransactionDate':'First transaction'})\n",
    "                                            \n",
    "customer_view = customer_view.merge(first_transactions)"
   ]
  },
  {
   "cell_type": "markdown",
   "metadata": {},
   "source": [
    "Mean time between transactions"
   ]
  },
  {
   "cell_type": "code",
   "execution_count": 43,
   "metadata": {},
   "outputs": [],
   "source": [
    "mean_time_between_transactions = (customer_view['Last transaction']-customer_view['First transaction'])/(customer_view['Number of transactions']-1)\n",
    "\n",
    "customer_view['Mean time between transactions'] = mean_time_between_transactions"
   ]
  },
  {
   "cell_type": "markdown",
   "metadata": {},
   "source": [
    "Ratio between final recorded balance and first recorded balance"
   ]
  },
  {
   "cell_type": "code",
   "execution_count": 44,
   "metadata": {},
   "outputs": [],
   "source": [
    "first_recorded_balance = data[['CustomerID','CustAccountBalance','TransactionDate']].sort_values(by='TransactionDate')\\\n",
    "                         .groupby('CustomerID', as_index=False)\\\n",
    "                         .min()\\\n",
    "                         .rename(columns={'CustAccountBalance':'First balance'})\n",
    "\n",
    "last_recorded_balance = data[['CustomerID','CustAccountBalance','TransactionDate']].sort_values(by='TransactionDate')\\\n",
    "                         .groupby('CustomerID', as_index=False)\\\n",
    "                         .max()\\\n",
    "                         .rename(columns={'CustAccountBalance':'Last balance'})\n",
    "\n",
    "customer_view['Balance traction'] = (last_recorded_balance['Last balance'] - first_recorded_balance['First balance'])/first_recorded_balance['First balance']"
   ]
  },
  {
   "cell_type": "markdown",
   "metadata": {},
   "source": [
    "Number of transactions higher than 1000 USD. "
   ]
  },
  {
   "cell_type": "code",
   "execution_count": 45,
   "metadata": {},
   "outputs": [],
   "source": [
    "highest_transactions = data[data['CustAccountBalance'] > 1000]\\\n",
    "                       .groupby('CustomerID', as_index=False)\\\n",
    "                       .count()[['CustomerID','TransactionID']]\\\n",
    "                       .rename(columns={'TransactionID':'Number of higher volume transactions'})\n",
    "                       \n",
    "customer_view = customer_view.merge(highest_transactions, how='left')"
   ]
  },
  {
   "cell_type": "markdown",
   "metadata": {},
   "source": [
    "Favourite hour"
   ]
  },
  {
   "cell_type": "code",
   "execution_count": 47,
   "metadata": {},
   "outputs": [],
   "source": [
    "hour = []\n",
    "for idx in list(data.index.values):\n",
    "    hour.append(data.TransactionTime[idx].hour)\n",
    "\n",
    "data['Hour'] = hour\n",
    "\n",
    "favourite_hour = data\\\n",
    "                 .groupby('CustomerID',as_index=False)['Hour']\\\n",
    "                 .apply(lambda x: x.mode().iat[0])\\\n",
    "                 .rename(columns={'Hour':'Favourite Hour'})\n",
    "                 \n",
    "customer_view = customer_view.merge(favourite_hour)"
   ]
  },
  {
   "cell_type": "markdown",
   "metadata": {},
   "source": [
    "Percentage of female outgo"
   ]
  },
  {
   "cell_type": "code",
   "execution_count": 46,
   "metadata": {},
   "outputs": [],
   "source": [
    "female_outgo = data[data['CustGender'] == 'F'][['CustomerID','TransactionAmount (INR)']]\\\n",
    "                             .groupby('CustomerID', as_index=False)\\\n",
    "                             .sum()\\\n",
    "                             .rename(columns={'TransactionAmount (INR)':'Female outgo'})\n",
    "\n",
    "total_transactions = data[['CustomerID','TransactionAmount (INR)']]\\\n",
    "                     .groupby('CustomerID', as_index=False)\\\n",
    "                     .sum()\\\n",
    "                     .rename(columns={'TransactionAmount (INR)':'Total transaction'})\n",
    "            \n",
    "customer_view['Female outgo'] = female_outgo['Female outgo']/total_transactions['Total transaction']"
   ]
  },
  {
   "cell_type": "code",
   "execution_count": 48,
   "metadata": {},
   "outputs": [
    {
     "data": {
      "text/html": [
       "<div>\n",
       "<style scoped>\n",
       "    .dataframe tbody tr th:only-of-type {\n",
       "        vertical-align: middle;\n",
       "    }\n",
       "\n",
       "    .dataframe tbody tr th {\n",
       "        vertical-align: top;\n",
       "    }\n",
       "\n",
       "    .dataframe thead th {\n",
       "        text-align: right;\n",
       "    }\n",
       "</style>\n",
       "<table border=\"1\" class=\"dataframe\">\n",
       "  <thead>\n",
       "    <tr style=\"text-align: right;\">\n",
       "      <th></th>\n",
       "      <th>CustomerID</th>\n",
       "      <th>Number of transactions</th>\n",
       "      <th>Number of high volume transactions</th>\n",
       "      <th>AVG Transaction</th>\n",
       "      <th>AVG Balance</th>\n",
       "      <th>AVG Utilization</th>\n",
       "      <th>Most common gender</th>\n",
       "      <th>Most frequent location</th>\n",
       "      <th>CustomerAge</th>\n",
       "      <th>MAX Transaction</th>\n",
       "      <th>...</th>\n",
       "      <th>Transaction when balance higher than the AVG</th>\n",
       "      <th>Max Utilization</th>\n",
       "      <th>Min Utilization</th>\n",
       "      <th>Last transaction</th>\n",
       "      <th>First transaction</th>\n",
       "      <th>Mean time between transactions</th>\n",
       "      <th>Balance traction</th>\n",
       "      <th>Number of higher volume transactions</th>\n",
       "      <th>Female outgo</th>\n",
       "      <th>Favourite Hour</th>\n",
       "    </tr>\n",
       "  </thead>\n",
       "  <tbody>\n",
       "    <tr>\n",
       "      <th>0</th>\n",
       "      <td>C1010011</td>\n",
       "      <td>2</td>\n",
       "      <td>2.0</td>\n",
       "      <td>30.636</td>\n",
       "      <td>916.08762</td>\n",
       "      <td>885.45162</td>\n",
       "      <td>F</td>\n",
       "      <td>NEW DELHI</td>\n",
       "      <td>30</td>\n",
       "      <td>57.000</td>\n",
       "      <td>...</td>\n",
       "      <td>1.0</td>\n",
       "      <td>1437.89448</td>\n",
       "      <td>333.00876</td>\n",
       "      <td>2016-09-26</td>\n",
       "      <td>2016-09-08</td>\n",
       "      <td>18 days</td>\n",
       "      <td>2.697780</td>\n",
       "      <td>1.0</td>\n",
       "      <td>0.930278</td>\n",
       "      <td>1</td>\n",
       "    </tr>\n",
       "    <tr>\n",
       "      <th>1</th>\n",
       "      <td>C1010012</td>\n",
       "      <td>1</td>\n",
       "      <td>1.0</td>\n",
       "      <td>17.988</td>\n",
       "      <td>290.45388</td>\n",
       "      <td>272.46588</td>\n",
       "      <td>M</td>\n",
       "      <td>MUMBAI</td>\n",
       "      <td>28</td>\n",
       "      <td>17.988</td>\n",
       "      <td>...</td>\n",
       "      <td>NaN</td>\n",
       "      <td>272.46588</td>\n",
       "      <td>272.46588</td>\n",
       "      <td>2016-08-14</td>\n",
       "      <td>2016-08-14</td>\n",
       "      <td>NaT</td>\n",
       "      <td>0.000000</td>\n",
       "      <td>NaN</td>\n",
       "      <td>0.803869</td>\n",
       "      <td>20</td>\n",
       "    </tr>\n",
       "    <tr>\n",
       "      <th>2</th>\n",
       "      <td>C1010014</td>\n",
       "      <td>2</td>\n",
       "      <td>2.0</td>\n",
       "      <td>8.730</td>\n",
       "      <td>1201.35540</td>\n",
       "      <td>1192.62540</td>\n",
       "      <td>F</td>\n",
       "      <td>MUMBAI</td>\n",
       "      <td>31</td>\n",
       "      <td>14.460</td>\n",
       "      <td>...</td>\n",
       "      <td>1.0</td>\n",
       "      <td>1939.18512</td>\n",
       "      <td>446.06568</td>\n",
       "      <td>2016-07-08</td>\n",
       "      <td>2016-01-08</td>\n",
       "      <td>182 days</td>\n",
       "      <td>3.217322</td>\n",
       "      <td>1.0</td>\n",
       "      <td>0.020619</td>\n",
       "      <td>15</td>\n",
       "    </tr>\n",
       "    <tr>\n",
       "      <th>3</th>\n",
       "      <td>C1010018</td>\n",
       "      <td>1</td>\n",
       "      <td>0.0</td>\n",
       "      <td>0.360</td>\n",
       "      <td>5.95416</td>\n",
       "      <td>5.59416</td>\n",
       "      <td>F</td>\n",
       "      <td>CHAMPARAN</td>\n",
       "      <td>33</td>\n",
       "      <td>0.360</td>\n",
       "      <td>...</td>\n",
       "      <td>NaN</td>\n",
       "      <td>5.59416</td>\n",
       "      <td>5.59416</td>\n",
       "      <td>2016-09-15</td>\n",
       "      <td>2016-09-15</td>\n",
       "      <td>NaT</td>\n",
       "      <td>0.000000</td>\n",
       "      <td>NaN</td>\n",
       "      <td>18.566667</td>\n",
       "      <td>17</td>\n",
       "    </tr>\n",
       "    <tr>\n",
       "      <th>4</th>\n",
       "      <td>C1010024</td>\n",
       "      <td>1</td>\n",
       "      <td>1.0</td>\n",
       "      <td>60.000</td>\n",
       "      <td>1044.70380</td>\n",
       "      <td>984.70380</td>\n",
       "      <td>M</td>\n",
       "      <td>KOLKATA</td>\n",
       "      <td>57</td>\n",
       "      <td>60.000</td>\n",
       "      <td>...</td>\n",
       "      <td>NaN</td>\n",
       "      <td>984.70380</td>\n",
       "      <td>984.70380</td>\n",
       "      <td>2016-08-18</td>\n",
       "      <td>2016-08-18</td>\n",
       "      <td>NaT</td>\n",
       "      <td>0.000000</td>\n",
       "      <td>1.0</td>\n",
       "      <td>0.020000</td>\n",
       "      <td>14</td>\n",
       "    </tr>\n",
       "    <tr>\n",
       "      <th>...</th>\n",
       "      <td>...</td>\n",
       "      <td>...</td>\n",
       "      <td>...</td>\n",
       "      <td>...</td>\n",
       "      <td>...</td>\n",
       "      <td>...</td>\n",
       "      <td>...</td>\n",
       "      <td>...</td>\n",
       "      <td>...</td>\n",
       "      <td>...</td>\n",
       "      <td>...</td>\n",
       "      <td>...</td>\n",
       "      <td>...</td>\n",
       "      <td>...</td>\n",
       "      <td>...</td>\n",
       "      <td>...</td>\n",
       "      <td>...</td>\n",
       "      <td>...</td>\n",
       "      <td>...</td>\n",
       "      <td>...</td>\n",
       "      <td>...</td>\n",
       "    </tr>\n",
       "    <tr>\n",
       "      <th>839076</th>\n",
       "      <td>C9099836</td>\n",
       "      <td>1</td>\n",
       "      <td>1.0</td>\n",
       "      <td>8.292</td>\n",
       "      <td>1596.80676</td>\n",
       "      <td>1588.51476</td>\n",
       "      <td>M</td>\n",
       "      <td>BHIWANDI</td>\n",
       "      <td>32</td>\n",
       "      <td>8.292</td>\n",
       "      <td>...</td>\n",
       "      <td>NaN</td>\n",
       "      <td>1588.51476</td>\n",
       "      <td>1588.51476</td>\n",
       "      <td>2016-07-08</td>\n",
       "      <td>2016-07-08</td>\n",
       "      <td>NaT</td>\n",
       "      <td>0.000000</td>\n",
       "      <td>1.0</td>\n",
       "      <td>NaN</td>\n",
       "      <td>0</td>\n",
       "    </tr>\n",
       "    <tr>\n",
       "      <th>839077</th>\n",
       "      <td>C9099877</td>\n",
       "      <td>1</td>\n",
       "      <td>1.0</td>\n",
       "      <td>2.664</td>\n",
       "      <td>1152.76152</td>\n",
       "      <td>1150.09752</td>\n",
       "      <td>M</td>\n",
       "      <td>BANGALORE</td>\n",
       "      <td>26</td>\n",
       "      <td>2.664</td>\n",
       "      <td>...</td>\n",
       "      <td>NaN</td>\n",
       "      <td>1150.09752</td>\n",
       "      <td>1150.09752</td>\n",
       "      <td>2016-09-15</td>\n",
       "      <td>2016-09-15</td>\n",
       "      <td>NaT</td>\n",
       "      <td>0.000000</td>\n",
       "      <td>1.0</td>\n",
       "      <td>NaN</td>\n",
       "      <td>12</td>\n",
       "    </tr>\n",
       "    <tr>\n",
       "      <th>839078</th>\n",
       "      <td>C9099919</td>\n",
       "      <td>1</td>\n",
       "      <td>0.0</td>\n",
       "      <td>1.512</td>\n",
       "      <td>66.71700</td>\n",
       "      <td>65.20500</td>\n",
       "      <td>M</td>\n",
       "      <td>GUNTUR</td>\n",
       "      <td>29</td>\n",
       "      <td>1.512</td>\n",
       "      <td>...</td>\n",
       "      <td>NaN</td>\n",
       "      <td>65.20500</td>\n",
       "      <td>65.20500</td>\n",
       "      <td>2016-08-18</td>\n",
       "      <td>2016-08-18</td>\n",
       "      <td>NaT</td>\n",
       "      <td>0.000000</td>\n",
       "      <td>NaN</td>\n",
       "      <td>NaN</td>\n",
       "      <td>12</td>\n",
       "    </tr>\n",
       "    <tr>\n",
       "      <th>839079</th>\n",
       "      <td>C9099941</td>\n",
       "      <td>1</td>\n",
       "      <td>1.0</td>\n",
       "      <td>0.600</td>\n",
       "      <td>423.55104</td>\n",
       "      <td>422.95104</td>\n",
       "      <td>M</td>\n",
       "      <td>CHENNAI</td>\n",
       "      <td>28</td>\n",
       "      <td>0.600</td>\n",
       "      <td>...</td>\n",
       "      <td>NaN</td>\n",
       "      <td>422.95104</td>\n",
       "      <td>422.95104</td>\n",
       "      <td>2016-08-28</td>\n",
       "      <td>2016-08-28</td>\n",
       "      <td>NaT</td>\n",
       "      <td>0.000000</td>\n",
       "      <td>NaN</td>\n",
       "      <td>NaN</td>\n",
       "      <td>21</td>\n",
       "    </tr>\n",
       "    <tr>\n",
       "      <th>839080</th>\n",
       "      <td>C9099956</td>\n",
       "      <td>1</td>\n",
       "      <td>0.0</td>\n",
       "      <td>10.260</td>\n",
       "      <td>83.62716</td>\n",
       "      <td>73.36716</td>\n",
       "      <td>M</td>\n",
       "      <td>MUSSOORIE</td>\n",
       "      <td>40</td>\n",
       "      <td>10.260</td>\n",
       "      <td>...</td>\n",
       "      <td>NaN</td>\n",
       "      <td>73.36716</td>\n",
       "      <td>73.36716</td>\n",
       "      <td>2016-09-25</td>\n",
       "      <td>2016-09-25</td>\n",
       "      <td>NaT</td>\n",
       "      <td>0.000000</td>\n",
       "      <td>NaN</td>\n",
       "      <td>NaN</td>\n",
       "      <td>22</td>\n",
       "    </tr>\n",
       "  </tbody>\n",
       "</table>\n",
       "<p>839081 rows × 28 columns</p>\n",
       "</div>"
      ],
      "text/plain": [
       "       CustomerID  Number of transactions  Number of high volume transactions  \\\n",
       "0        C1010011                       2                                 2.0   \n",
       "1        C1010012                       1                                 1.0   \n",
       "2        C1010014                       2                                 2.0   \n",
       "3        C1010018                       1                                 0.0   \n",
       "4        C1010024                       1                                 1.0   \n",
       "...           ...                     ...                                 ...   \n",
       "839076   C9099836                       1                                 1.0   \n",
       "839077   C9099877                       1                                 1.0   \n",
       "839078   C9099919                       1                                 0.0   \n",
       "839079   C9099941                       1                                 1.0   \n",
       "839080   C9099956                       1                                 0.0   \n",
       "\n",
       "        AVG Transaction  AVG Balance  AVG Utilization Most common gender  \\\n",
       "0                30.636    916.08762        885.45162                  F   \n",
       "1                17.988    290.45388        272.46588                  M   \n",
       "2                 8.730   1201.35540       1192.62540                  F   \n",
       "3                 0.360      5.95416          5.59416                  F   \n",
       "4                60.000   1044.70380        984.70380                  M   \n",
       "...                 ...          ...              ...                ...   \n",
       "839076            8.292   1596.80676       1588.51476                  M   \n",
       "839077            2.664   1152.76152       1150.09752                  M   \n",
       "839078            1.512     66.71700         65.20500                  M   \n",
       "839079            0.600    423.55104        422.95104                  M   \n",
       "839080           10.260     83.62716         73.36716                  M   \n",
       "\n",
       "       Most frequent location  CustomerAge  MAX Transaction  ...  \\\n",
       "0                   NEW DELHI           30           57.000  ...   \n",
       "1                      MUMBAI           28           17.988  ...   \n",
       "2                      MUMBAI           31           14.460  ...   \n",
       "3                   CHAMPARAN           33            0.360  ...   \n",
       "4                     KOLKATA           57           60.000  ...   \n",
       "...                       ...          ...              ...  ...   \n",
       "839076               BHIWANDI           32            8.292  ...   \n",
       "839077              BANGALORE           26            2.664  ...   \n",
       "839078                 GUNTUR           29            1.512  ...   \n",
       "839079                CHENNAI           28            0.600  ...   \n",
       "839080              MUSSOORIE           40           10.260  ...   \n",
       "\n",
       "        Transaction when balance higher than the AVG  Max Utilization  \\\n",
       "0                                                1.0       1437.89448   \n",
       "1                                                NaN        272.46588   \n",
       "2                                                1.0       1939.18512   \n",
       "3                                                NaN          5.59416   \n",
       "4                                                NaN        984.70380   \n",
       "...                                              ...              ...   \n",
       "839076                                           NaN       1588.51476   \n",
       "839077                                           NaN       1150.09752   \n",
       "839078                                           NaN         65.20500   \n",
       "839079                                           NaN        422.95104   \n",
       "839080                                           NaN         73.36716   \n",
       "\n",
       "        Min Utilization  Last transaction  First transaction  \\\n",
       "0             333.00876        2016-09-26         2016-09-08   \n",
       "1             272.46588        2016-08-14         2016-08-14   \n",
       "2             446.06568        2016-07-08         2016-01-08   \n",
       "3               5.59416        2016-09-15         2016-09-15   \n",
       "4             984.70380        2016-08-18         2016-08-18   \n",
       "...                 ...               ...                ...   \n",
       "839076       1588.51476        2016-07-08         2016-07-08   \n",
       "839077       1150.09752        2016-09-15         2016-09-15   \n",
       "839078         65.20500        2016-08-18         2016-08-18   \n",
       "839079        422.95104        2016-08-28         2016-08-28   \n",
       "839080         73.36716        2016-09-25         2016-09-25   \n",
       "\n",
       "        Mean time between transactions  Balance traction  \\\n",
       "0                              18 days          2.697780   \n",
       "1                                  NaT          0.000000   \n",
       "2                             182 days          3.217322   \n",
       "3                                  NaT          0.000000   \n",
       "4                                  NaT          0.000000   \n",
       "...                                ...               ...   \n",
       "839076                             NaT          0.000000   \n",
       "839077                             NaT          0.000000   \n",
       "839078                             NaT          0.000000   \n",
       "839079                             NaT          0.000000   \n",
       "839080                             NaT          0.000000   \n",
       "\n",
       "        Number of higher volume transactions  Female outgo  Favourite Hour  \n",
       "0                                        1.0      0.930278               1  \n",
       "1                                        NaN      0.803869              20  \n",
       "2                                        1.0      0.020619              15  \n",
       "3                                        NaN     18.566667              17  \n",
       "4                                        1.0      0.020000              14  \n",
       "...                                      ...           ...             ...  \n",
       "839076                                   1.0           NaN               0  \n",
       "839077                                   1.0           NaN              12  \n",
       "839078                                   NaN           NaN              12  \n",
       "839079                                   NaN           NaN              21  \n",
       "839080                                   NaN           NaN              22  \n",
       "\n",
       "[839081 rows x 28 columns]"
      ]
     },
     "execution_count": 48,
     "metadata": {},
     "output_type": "execute_result"
    }
   ],
   "source": [
    "customer_view"
   ]
  },
  {
   "cell_type": "code",
   "execution_count": 49,
   "metadata": {},
   "outputs": [],
   "source": [
    "customer_view.to_csv('customer_engineered.csv')"
   ]
  },
  {
   "cell_type": "markdown",
   "metadata": {},
   "source": [
    "*Some quick data cleaning...*"
   ]
  },
  {
   "cell_type": "code",
   "execution_count": 51,
   "metadata": {},
   "outputs": [],
   "source": [
    "customer_view['Mean time between transactions'].fillna(pd.Timedelta('0 days'), inplace=True)"
   ]
  },
  {
   "cell_type": "code",
   "execution_count": null,
   "metadata": {},
   "outputs": [],
   "source": [
    "customer_view.fillna(0,inplace=True)\n"
   ]
  },
  {
   "cell_type": "code",
   "execution_count": 53,
   "metadata": {},
   "outputs": [
    {
     "data": {
      "text/plain": [
       "Unnamed: 0                                      0\n",
       "CustomerID                                      0\n",
       "Number of transactions                          0\n",
       "Number of high volume transactions              0\n",
       "AVG Transaction                                 0\n",
       "AVG Balance                                     0\n",
       "AVG Utilization                                 0\n",
       "Most common gender                              0\n",
       "Most frequent location                          0\n",
       "CustomerAge                                     0\n",
       "MAX Transaction                                 0\n",
       "MIN Transaction                                 0\n",
       "Number of visits in New Delhi                   0\n",
       "Number of visits in Mumbai                      0\n",
       "Number of visits in Bangalore                   0\n",
       "Favourite day of the week                       0\n",
       "Max Balance                                     0\n",
       "Min Balance                                     0\n",
       "Favourite Month                                 0\n",
       "Transaction when balance higher than the AVG    0\n",
       "Max Utilization                                 0\n",
       "Min Utilization                                 0\n",
       "Last transaction                                0\n",
       "First transaction                               0\n",
       "Mean time between transactions                  0\n",
       "Balance traction                                0\n",
       "Number of higher volume transactions            0\n",
       "Favourite Hour                                  0\n",
       "Female outgo                                    0\n",
       "dtype: int64"
      ]
     },
     "execution_count": 53,
     "metadata": {},
     "output_type": "execute_result"
    }
   ],
   "source": [
    "customer_view.isna().sum()"
   ]
  },
  {
   "cell_type": "code",
   "execution_count": 131,
   "metadata": {},
   "outputs": [
    {
     "name": "stdout",
     "output_type": "stream",
     "text": [
      "<class 'pandas.core.frame.DataFrame'>\n",
      "Int64Index: 839081 entries, 0 to 839080\n",
      "Data columns (total 28 columns):\n",
      " #   Column                                        Non-Null Count   Dtype          \n",
      "---  ------                                        --------------   -----          \n",
      " 0   CustomerID                                    839081 non-null  object         \n",
      " 1   Number of transactions                        839081 non-null  int64          \n",
      " 2   Number of high volume transactions            839081 non-null  float64        \n",
      " 3   AVG Transaction                               839081 non-null  float64        \n",
      " 4   AVG Balance                                   839081 non-null  float64        \n",
      " 5   AVG Utilization                               839081 non-null  float64        \n",
      " 6   Most common gender                            839081 non-null  object         \n",
      " 7   Most frequent location                        839081 non-null  object         \n",
      " 8   CustomerAge                                   839081 non-null  int32          \n",
      " 9   MAX Transaction                               839081 non-null  float64        \n",
      " 10  MIN Transaction                               839081 non-null  float64        \n",
      " 11  Number of visits in New Delhi                 839081 non-null  float64        \n",
      " 12  Number of visits in Mumbai                    839081 non-null  float64        \n",
      " 13  Number of visits in Bangalore                 839081 non-null  float64        \n",
      " 14  Favourite day of the week                     839081 non-null  int64          \n",
      " 15  Max Balance                                   839081 non-null  float64        \n",
      " 16  Min Balance                                   839081 non-null  float64        \n",
      " 17  Favourite Month                               839081 non-null  int64          \n",
      " 18  Transaction when balance higher than the AVG  839081 non-null  float64        \n",
      " 19  Max Utilization                               839081 non-null  float64        \n",
      " 20  Min Utilization                               839081 non-null  float64        \n",
      " 21  Last transaction                              839081 non-null  datetime64[ns] \n",
      " 22  First transaction                             839081 non-null  datetime64[ns] \n",
      " 23  Mean time between transactions                839081 non-null  timedelta64[ns]\n",
      " 24  Balance traction                              839081 non-null  float64        \n",
      " 25  Number of higher volume transactions          839081 non-null  float64        \n",
      " 26  Favourite Hour                                839081 non-null  int64          \n",
      " 27  Female outgo                                  839081 non-null  float64        \n",
      "dtypes: datetime64[ns](2), float64(17), int32(1), int64(4), object(3), timedelta64[ns](1)\n",
      "memory usage: 182.4+ MB\n"
     ]
    }
   ],
   "source": [
    "customer_view.info()"
   ]
  },
  {
   "cell_type": "code",
   "execution_count": null,
   "metadata": {},
   "outputs": [
    {
     "data": {
      "text/html": [
       "<div>\n",
       "<style scoped>\n",
       "    .dataframe tbody tr th:only-of-type {\n",
       "        vertical-align: middle;\n",
       "    }\n",
       "\n",
       "    .dataframe tbody tr th {\n",
       "        vertical-align: top;\n",
       "    }\n",
       "\n",
       "    .dataframe thead th {\n",
       "        text-align: right;\n",
       "    }\n",
       "</style>\n",
       "<table border=\"1\" class=\"dataframe\">\n",
       "  <thead>\n",
       "    <tr style=\"text-align: right;\">\n",
       "      <th></th>\n",
       "      <th>CustomerID</th>\n",
       "      <th>Number of transactions</th>\n",
       "      <th>Number of high volume transactions</th>\n",
       "      <th>AVG Transaction</th>\n",
       "      <th>AVG Balance</th>\n",
       "      <th>AVG Utilization</th>\n",
       "      <th>Most common gender</th>\n",
       "      <th>Most frequent location</th>\n",
       "      <th>CustomerAge</th>\n",
       "      <th>MAX Transaction</th>\n",
       "      <th>...</th>\n",
       "      <th>Max Utilization</th>\n",
       "      <th>Min Utilization</th>\n",
       "      <th>Number of visits in Bangalore</th>\n",
       "      <th>Last transaction</th>\n",
       "      <th>First transaction</th>\n",
       "      <th>Mean time between transactions</th>\n",
       "      <th>Balance traction</th>\n",
       "      <th>Number of higher volume transactions</th>\n",
       "      <th>Favourite Hour</th>\n",
       "      <th>Female outgo</th>\n",
       "    </tr>\n",
       "  </thead>\n",
       "  <tbody>\n",
       "    <tr>\n",
       "      <th>0</th>\n",
       "      <td>C1010011</td>\n",
       "      <td>2</td>\n",
       "      <td>2.0</td>\n",
       "      <td>30.636</td>\n",
       "      <td>916.08762</td>\n",
       "      <td>885.45162</td>\n",
       "      <td>F</td>\n",
       "      <td>NEW DELHI</td>\n",
       "      <td>30</td>\n",
       "      <td>57.000</td>\n",
       "      <td>...</td>\n",
       "      <td>1437.89448</td>\n",
       "      <td>333.00876</td>\n",
       "      <td>0.0</td>\n",
       "      <td>2016-09-26</td>\n",
       "      <td>2016-09-08</td>\n",
       "      <td>18 days</td>\n",
       "      <td>2.697780</td>\n",
       "      <td>1.0</td>\n",
       "      <td>1</td>\n",
       "      <td>0.930278</td>\n",
       "    </tr>\n",
       "    <tr>\n",
       "      <th>1</th>\n",
       "      <td>C1010012</td>\n",
       "      <td>1</td>\n",
       "      <td>1.0</td>\n",
       "      <td>17.988</td>\n",
       "      <td>290.45388</td>\n",
       "      <td>272.46588</td>\n",
       "      <td>M</td>\n",
       "      <td>MUMBAI</td>\n",
       "      <td>28</td>\n",
       "      <td>17.988</td>\n",
       "      <td>...</td>\n",
       "      <td>272.46588</td>\n",
       "      <td>272.46588</td>\n",
       "      <td>0.0</td>\n",
       "      <td>2016-08-14</td>\n",
       "      <td>2016-08-14</td>\n",
       "      <td>0 days</td>\n",
       "      <td>0.000000</td>\n",
       "      <td>0.0</td>\n",
       "      <td>20</td>\n",
       "      <td>0.803869</td>\n",
       "    </tr>\n",
       "    <tr>\n",
       "      <th>2</th>\n",
       "      <td>C1010014</td>\n",
       "      <td>2</td>\n",
       "      <td>2.0</td>\n",
       "      <td>8.730</td>\n",
       "      <td>1201.35540</td>\n",
       "      <td>1192.62540</td>\n",
       "      <td>F</td>\n",
       "      <td>MUMBAI</td>\n",
       "      <td>31</td>\n",
       "      <td>14.460</td>\n",
       "      <td>...</td>\n",
       "      <td>1939.18512</td>\n",
       "      <td>446.06568</td>\n",
       "      <td>0.0</td>\n",
       "      <td>2016-07-08</td>\n",
       "      <td>2016-01-08</td>\n",
       "      <td>182 days</td>\n",
       "      <td>3.217322</td>\n",
       "      <td>1.0</td>\n",
       "      <td>15</td>\n",
       "      <td>0.020619</td>\n",
       "    </tr>\n",
       "    <tr>\n",
       "      <th>3</th>\n",
       "      <td>C1010018</td>\n",
       "      <td>1</td>\n",
       "      <td>0.0</td>\n",
       "      <td>0.360</td>\n",
       "      <td>5.95416</td>\n",
       "      <td>5.59416</td>\n",
       "      <td>F</td>\n",
       "      <td>CHAMPARAN</td>\n",
       "      <td>33</td>\n",
       "      <td>0.360</td>\n",
       "      <td>...</td>\n",
       "      <td>5.59416</td>\n",
       "      <td>5.59416</td>\n",
       "      <td>0.0</td>\n",
       "      <td>2016-09-15</td>\n",
       "      <td>2016-09-15</td>\n",
       "      <td>0 days</td>\n",
       "      <td>0.000000</td>\n",
       "      <td>0.0</td>\n",
       "      <td>17</td>\n",
       "      <td>18.566667</td>\n",
       "    </tr>\n",
       "    <tr>\n",
       "      <th>4</th>\n",
       "      <td>C1010024</td>\n",
       "      <td>1</td>\n",
       "      <td>1.0</td>\n",
       "      <td>60.000</td>\n",
       "      <td>1044.70380</td>\n",
       "      <td>984.70380</td>\n",
       "      <td>M</td>\n",
       "      <td>KOLKATA</td>\n",
       "      <td>57</td>\n",
       "      <td>60.000</td>\n",
       "      <td>...</td>\n",
       "      <td>984.70380</td>\n",
       "      <td>984.70380</td>\n",
       "      <td>0.0</td>\n",
       "      <td>2016-08-18</td>\n",
       "      <td>2016-08-18</td>\n",
       "      <td>0 days</td>\n",
       "      <td>0.000000</td>\n",
       "      <td>1.0</td>\n",
       "      <td>14</td>\n",
       "      <td>0.020000</td>\n",
       "    </tr>\n",
       "  </tbody>\n",
       "</table>\n",
       "<p>5 rows × 28 columns</p>\n",
       "</div>"
      ],
      "text/plain": [
       "  CustomerID  Number of transactions  Number of high volume transactions  \\\n",
       "0   C1010011                       2                                 2.0   \n",
       "1   C1010012                       1                                 1.0   \n",
       "2   C1010014                       2                                 2.0   \n",
       "3   C1010018                       1                                 0.0   \n",
       "4   C1010024                       1                                 1.0   \n",
       "\n",
       "   AVG Transaction  AVG Balance  AVG Utilization Most common gender  \\\n",
       "0           30.636    916.08762        885.45162                  F   \n",
       "1           17.988    290.45388        272.46588                  M   \n",
       "2            8.730   1201.35540       1192.62540                  F   \n",
       "3            0.360      5.95416          5.59416                  F   \n",
       "4           60.000   1044.70380        984.70380                  M   \n",
       "\n",
       "  Most frequent location  CustomerAge  MAX Transaction  ...  Max Utilization  \\\n",
       "0              NEW DELHI           30           57.000  ...       1437.89448   \n",
       "1                 MUMBAI           28           17.988  ...        272.46588   \n",
       "2                 MUMBAI           31           14.460  ...       1939.18512   \n",
       "3              CHAMPARAN           33            0.360  ...          5.59416   \n",
       "4                KOLKATA           57           60.000  ...        984.70380   \n",
       "\n",
       "   Min Utilization  Number of visits in Bangalore  Last transaction  \\\n",
       "0        333.00876                            0.0        2016-09-26   \n",
       "1        272.46588                            0.0        2016-08-14   \n",
       "2        446.06568                            0.0        2016-07-08   \n",
       "3          5.59416                            0.0        2016-09-15   \n",
       "4        984.70380                            0.0        2016-08-18   \n",
       "\n",
       "   First transaction  Mean time between transactions  Balance traction  \\\n",
       "0         2016-09-08                         18 days          2.697780   \n",
       "1         2016-08-14                          0 days          0.000000   \n",
       "2         2016-01-08                        182 days          3.217322   \n",
       "3         2016-09-15                          0 days          0.000000   \n",
       "4         2016-08-18                          0 days          0.000000   \n",
       "\n",
       "   Number of higher volume transactions  Favourite Hour  Female outgo  \n",
       "0                                   1.0               1      0.930278  \n",
       "1                                   0.0              20      0.803869  \n",
       "2                                   1.0              15      0.020619  \n",
       "3                                   0.0              17     18.566667  \n",
       "4                                   1.0              14      0.020000  \n",
       "\n",
       "[5 rows x 28 columns]"
      ]
     },
     "execution_count": 343,
     "metadata": {},
     "output_type": "execute_result"
    }
   ],
   "source": [
    "customer_view.head()"
   ]
  },
  {
   "cell_type": "markdown",
   "metadata": {},
   "source": [
    "### ***Time for PCA***"
   ]
  },
  {
   "cell_type": "markdown",
   "metadata": {},
   "source": [
    "In order to apply principal component analysis we have to consider only the numeric features, so we are dropping some columns from the dataset. "
   ]
  },
  {
   "cell_type": "code",
   "execution_count": 3,
   "metadata": {},
   "outputs": [],
   "source": [
    "customer_view = pd.read_csv('customer_engineered.csv')"
   ]
  },
  {
   "cell_type": "code",
   "execution_count": 4,
   "metadata": {},
   "outputs": [
    {
     "data": {
      "text/html": [
       "<div>\n",
       "<style scoped>\n",
       "    .dataframe tbody tr th:only-of-type {\n",
       "        vertical-align: middle;\n",
       "    }\n",
       "\n",
       "    .dataframe tbody tr th {\n",
       "        vertical-align: top;\n",
       "    }\n",
       "\n",
       "    .dataframe thead th {\n",
       "        text-align: right;\n",
       "    }\n",
       "</style>\n",
       "<table border=\"1\" class=\"dataframe\">\n",
       "  <thead>\n",
       "    <tr style=\"text-align: right;\">\n",
       "      <th></th>\n",
       "      <th>Unnamed: 0</th>\n",
       "      <th>CustomerID</th>\n",
       "      <th>Number of transactions</th>\n",
       "      <th>Number of high volume transactions</th>\n",
       "      <th>AVG Transaction</th>\n",
       "      <th>AVG Balance</th>\n",
       "      <th>AVG Utilization</th>\n",
       "      <th>Most common gender</th>\n",
       "      <th>Most frequent location</th>\n",
       "      <th>CustomerAge</th>\n",
       "      <th>...</th>\n",
       "      <th>Transaction when balance higher than the AVG</th>\n",
       "      <th>Max Utilization</th>\n",
       "      <th>Min Utilization</th>\n",
       "      <th>Last transaction</th>\n",
       "      <th>First transaction</th>\n",
       "      <th>Mean time between transactions</th>\n",
       "      <th>Balance traction</th>\n",
       "      <th>Number of higher volume transactions</th>\n",
       "      <th>Female outgo</th>\n",
       "      <th>Favourite Hour</th>\n",
       "    </tr>\n",
       "  </thead>\n",
       "  <tbody>\n",
       "    <tr>\n",
       "      <th>0</th>\n",
       "      <td>0</td>\n",
       "      <td>C1010011</td>\n",
       "      <td>2</td>\n",
       "      <td>2.0</td>\n",
       "      <td>30.636</td>\n",
       "      <td>916.08762</td>\n",
       "      <td>885.45162</td>\n",
       "      <td>F</td>\n",
       "      <td>NEW DELHI</td>\n",
       "      <td>30</td>\n",
       "      <td>...</td>\n",
       "      <td>1.0</td>\n",
       "      <td>1437.89448</td>\n",
       "      <td>333.00876</td>\n",
       "      <td>2016-09-26</td>\n",
       "      <td>2016-09-08</td>\n",
       "      <td>18 days 00:00:00</td>\n",
       "      <td>2.697780</td>\n",
       "      <td>1.0</td>\n",
       "      <td>0.930278</td>\n",
       "      <td>1</td>\n",
       "    </tr>\n",
       "    <tr>\n",
       "      <th>1</th>\n",
       "      <td>1</td>\n",
       "      <td>C1010012</td>\n",
       "      <td>1</td>\n",
       "      <td>1.0</td>\n",
       "      <td>17.988</td>\n",
       "      <td>290.45388</td>\n",
       "      <td>272.46588</td>\n",
       "      <td>M</td>\n",
       "      <td>MUMBAI</td>\n",
       "      <td>28</td>\n",
       "      <td>...</td>\n",
       "      <td>NaN</td>\n",
       "      <td>272.46588</td>\n",
       "      <td>272.46588</td>\n",
       "      <td>2016-08-14</td>\n",
       "      <td>2016-08-14</td>\n",
       "      <td>NaN</td>\n",
       "      <td>0.000000</td>\n",
       "      <td>NaN</td>\n",
       "      <td>0.803869</td>\n",
       "      <td>20</td>\n",
       "    </tr>\n",
       "    <tr>\n",
       "      <th>2</th>\n",
       "      <td>2</td>\n",
       "      <td>C1010014</td>\n",
       "      <td>2</td>\n",
       "      <td>2.0</td>\n",
       "      <td>8.730</td>\n",
       "      <td>1201.35540</td>\n",
       "      <td>1192.62540</td>\n",
       "      <td>F</td>\n",
       "      <td>MUMBAI</td>\n",
       "      <td>31</td>\n",
       "      <td>...</td>\n",
       "      <td>1.0</td>\n",
       "      <td>1939.18512</td>\n",
       "      <td>446.06568</td>\n",
       "      <td>2016-07-08</td>\n",
       "      <td>2016-01-08</td>\n",
       "      <td>182 days 00:00:00</td>\n",
       "      <td>3.217322</td>\n",
       "      <td>1.0</td>\n",
       "      <td>0.020619</td>\n",
       "      <td>15</td>\n",
       "    </tr>\n",
       "    <tr>\n",
       "      <th>3</th>\n",
       "      <td>3</td>\n",
       "      <td>C1010018</td>\n",
       "      <td>1</td>\n",
       "      <td>0.0</td>\n",
       "      <td>0.360</td>\n",
       "      <td>5.95416</td>\n",
       "      <td>5.59416</td>\n",
       "      <td>F</td>\n",
       "      <td>CHAMPARAN</td>\n",
       "      <td>33</td>\n",
       "      <td>...</td>\n",
       "      <td>NaN</td>\n",
       "      <td>5.59416</td>\n",
       "      <td>5.59416</td>\n",
       "      <td>2016-09-15</td>\n",
       "      <td>2016-09-15</td>\n",
       "      <td>NaN</td>\n",
       "      <td>0.000000</td>\n",
       "      <td>NaN</td>\n",
       "      <td>18.566667</td>\n",
       "      <td>17</td>\n",
       "    </tr>\n",
       "    <tr>\n",
       "      <th>4</th>\n",
       "      <td>4</td>\n",
       "      <td>C1010024</td>\n",
       "      <td>1</td>\n",
       "      <td>1.0</td>\n",
       "      <td>60.000</td>\n",
       "      <td>1044.70380</td>\n",
       "      <td>984.70380</td>\n",
       "      <td>M</td>\n",
       "      <td>KOLKATA</td>\n",
       "      <td>57</td>\n",
       "      <td>...</td>\n",
       "      <td>NaN</td>\n",
       "      <td>984.70380</td>\n",
       "      <td>984.70380</td>\n",
       "      <td>2016-08-18</td>\n",
       "      <td>2016-08-18</td>\n",
       "      <td>NaN</td>\n",
       "      <td>0.000000</td>\n",
       "      <td>1.0</td>\n",
       "      <td>0.020000</td>\n",
       "      <td>14</td>\n",
       "    </tr>\n",
       "    <tr>\n",
       "      <th>...</th>\n",
       "      <td>...</td>\n",
       "      <td>...</td>\n",
       "      <td>...</td>\n",
       "      <td>...</td>\n",
       "      <td>...</td>\n",
       "      <td>...</td>\n",
       "      <td>...</td>\n",
       "      <td>...</td>\n",
       "      <td>...</td>\n",
       "      <td>...</td>\n",
       "      <td>...</td>\n",
       "      <td>...</td>\n",
       "      <td>...</td>\n",
       "      <td>...</td>\n",
       "      <td>...</td>\n",
       "      <td>...</td>\n",
       "      <td>...</td>\n",
       "      <td>...</td>\n",
       "      <td>...</td>\n",
       "      <td>...</td>\n",
       "      <td>...</td>\n",
       "    </tr>\n",
       "    <tr>\n",
       "      <th>839076</th>\n",
       "      <td>839076</td>\n",
       "      <td>C9099836</td>\n",
       "      <td>1</td>\n",
       "      <td>1.0</td>\n",
       "      <td>8.292</td>\n",
       "      <td>1596.80676</td>\n",
       "      <td>1588.51476</td>\n",
       "      <td>M</td>\n",
       "      <td>BHIWANDI</td>\n",
       "      <td>32</td>\n",
       "      <td>...</td>\n",
       "      <td>NaN</td>\n",
       "      <td>1588.51476</td>\n",
       "      <td>1588.51476</td>\n",
       "      <td>2016-07-08</td>\n",
       "      <td>2016-07-08</td>\n",
       "      <td>NaN</td>\n",
       "      <td>0.000000</td>\n",
       "      <td>1.0</td>\n",
       "      <td>NaN</td>\n",
       "      <td>0</td>\n",
       "    </tr>\n",
       "    <tr>\n",
       "      <th>839077</th>\n",
       "      <td>839077</td>\n",
       "      <td>C9099877</td>\n",
       "      <td>1</td>\n",
       "      <td>1.0</td>\n",
       "      <td>2.664</td>\n",
       "      <td>1152.76152</td>\n",
       "      <td>1150.09752</td>\n",
       "      <td>M</td>\n",
       "      <td>BANGALORE</td>\n",
       "      <td>26</td>\n",
       "      <td>...</td>\n",
       "      <td>NaN</td>\n",
       "      <td>1150.09752</td>\n",
       "      <td>1150.09752</td>\n",
       "      <td>2016-09-15</td>\n",
       "      <td>2016-09-15</td>\n",
       "      <td>NaN</td>\n",
       "      <td>0.000000</td>\n",
       "      <td>1.0</td>\n",
       "      <td>NaN</td>\n",
       "      <td>12</td>\n",
       "    </tr>\n",
       "    <tr>\n",
       "      <th>839078</th>\n",
       "      <td>839078</td>\n",
       "      <td>C9099919</td>\n",
       "      <td>1</td>\n",
       "      <td>0.0</td>\n",
       "      <td>1.512</td>\n",
       "      <td>66.71700</td>\n",
       "      <td>65.20500</td>\n",
       "      <td>M</td>\n",
       "      <td>GUNTUR</td>\n",
       "      <td>29</td>\n",
       "      <td>...</td>\n",
       "      <td>NaN</td>\n",
       "      <td>65.20500</td>\n",
       "      <td>65.20500</td>\n",
       "      <td>2016-08-18</td>\n",
       "      <td>2016-08-18</td>\n",
       "      <td>NaN</td>\n",
       "      <td>0.000000</td>\n",
       "      <td>NaN</td>\n",
       "      <td>NaN</td>\n",
       "      <td>12</td>\n",
       "    </tr>\n",
       "    <tr>\n",
       "      <th>839079</th>\n",
       "      <td>839079</td>\n",
       "      <td>C9099941</td>\n",
       "      <td>1</td>\n",
       "      <td>1.0</td>\n",
       "      <td>0.600</td>\n",
       "      <td>423.55104</td>\n",
       "      <td>422.95104</td>\n",
       "      <td>M</td>\n",
       "      <td>CHENNAI</td>\n",
       "      <td>28</td>\n",
       "      <td>...</td>\n",
       "      <td>NaN</td>\n",
       "      <td>422.95104</td>\n",
       "      <td>422.95104</td>\n",
       "      <td>2016-08-28</td>\n",
       "      <td>2016-08-28</td>\n",
       "      <td>NaN</td>\n",
       "      <td>0.000000</td>\n",
       "      <td>NaN</td>\n",
       "      <td>NaN</td>\n",
       "      <td>21</td>\n",
       "    </tr>\n",
       "    <tr>\n",
       "      <th>839080</th>\n",
       "      <td>839080</td>\n",
       "      <td>C9099956</td>\n",
       "      <td>1</td>\n",
       "      <td>0.0</td>\n",
       "      <td>10.260</td>\n",
       "      <td>83.62716</td>\n",
       "      <td>73.36716</td>\n",
       "      <td>M</td>\n",
       "      <td>MUSSOORIE</td>\n",
       "      <td>40</td>\n",
       "      <td>...</td>\n",
       "      <td>NaN</td>\n",
       "      <td>73.36716</td>\n",
       "      <td>73.36716</td>\n",
       "      <td>2016-09-25</td>\n",
       "      <td>2016-09-25</td>\n",
       "      <td>NaN</td>\n",
       "      <td>0.000000</td>\n",
       "      <td>NaN</td>\n",
       "      <td>NaN</td>\n",
       "      <td>22</td>\n",
       "    </tr>\n",
       "  </tbody>\n",
       "</table>\n",
       "<p>839081 rows × 29 columns</p>\n",
       "</div>"
      ],
      "text/plain": [
       "        Unnamed: 0 CustomerID  Number of transactions  \\\n",
       "0                0   C1010011                       2   \n",
       "1                1   C1010012                       1   \n",
       "2                2   C1010014                       2   \n",
       "3                3   C1010018                       1   \n",
       "4                4   C1010024                       1   \n",
       "...            ...        ...                     ...   \n",
       "839076      839076   C9099836                       1   \n",
       "839077      839077   C9099877                       1   \n",
       "839078      839078   C9099919                       1   \n",
       "839079      839079   C9099941                       1   \n",
       "839080      839080   C9099956                       1   \n",
       "\n",
       "        Number of high volume transactions  AVG Transaction  AVG Balance  \\\n",
       "0                                      2.0           30.636    916.08762   \n",
       "1                                      1.0           17.988    290.45388   \n",
       "2                                      2.0            8.730   1201.35540   \n",
       "3                                      0.0            0.360      5.95416   \n",
       "4                                      1.0           60.000   1044.70380   \n",
       "...                                    ...              ...          ...   \n",
       "839076                                 1.0            8.292   1596.80676   \n",
       "839077                                 1.0            2.664   1152.76152   \n",
       "839078                                 0.0            1.512     66.71700   \n",
       "839079                                 1.0            0.600    423.55104   \n",
       "839080                                 0.0           10.260     83.62716   \n",
       "\n",
       "        AVG Utilization Most common gender Most frequent location  \\\n",
       "0             885.45162                  F              NEW DELHI   \n",
       "1             272.46588                  M                 MUMBAI   \n",
       "2            1192.62540                  F                 MUMBAI   \n",
       "3               5.59416                  F              CHAMPARAN   \n",
       "4             984.70380                  M                KOLKATA   \n",
       "...                 ...                ...                    ...   \n",
       "839076       1588.51476                  M               BHIWANDI   \n",
       "839077       1150.09752                  M              BANGALORE   \n",
       "839078         65.20500                  M                 GUNTUR   \n",
       "839079        422.95104                  M                CHENNAI   \n",
       "839080         73.36716                  M              MUSSOORIE   \n",
       "\n",
       "        CustomerAge  ...  Transaction when balance higher than the AVG  \\\n",
       "0                30  ...                                           1.0   \n",
       "1                28  ...                                           NaN   \n",
       "2                31  ...                                           1.0   \n",
       "3                33  ...                                           NaN   \n",
       "4                57  ...                                           NaN   \n",
       "...             ...  ...                                           ...   \n",
       "839076           32  ...                                           NaN   \n",
       "839077           26  ...                                           NaN   \n",
       "839078           29  ...                                           NaN   \n",
       "839079           28  ...                                           NaN   \n",
       "839080           40  ...                                           NaN   \n",
       "\n",
       "        Max Utilization  Min Utilization  Last transaction  First transaction  \\\n",
       "0            1437.89448        333.00876        2016-09-26         2016-09-08   \n",
       "1             272.46588        272.46588        2016-08-14         2016-08-14   \n",
       "2            1939.18512        446.06568        2016-07-08         2016-01-08   \n",
       "3               5.59416          5.59416        2016-09-15         2016-09-15   \n",
       "4             984.70380        984.70380        2016-08-18         2016-08-18   \n",
       "...                 ...              ...               ...                ...   \n",
       "839076       1588.51476       1588.51476        2016-07-08         2016-07-08   \n",
       "839077       1150.09752       1150.09752        2016-09-15         2016-09-15   \n",
       "839078         65.20500         65.20500        2016-08-18         2016-08-18   \n",
       "839079        422.95104        422.95104        2016-08-28         2016-08-28   \n",
       "839080         73.36716         73.36716        2016-09-25         2016-09-25   \n",
       "\n",
       "        Mean time between transactions  Balance traction  \\\n",
       "0                     18 days 00:00:00          2.697780   \n",
       "1                                  NaN          0.000000   \n",
       "2                    182 days 00:00:00          3.217322   \n",
       "3                                  NaN          0.000000   \n",
       "4                                  NaN          0.000000   \n",
       "...                                ...               ...   \n",
       "839076                             NaN          0.000000   \n",
       "839077                             NaN          0.000000   \n",
       "839078                             NaN          0.000000   \n",
       "839079                             NaN          0.000000   \n",
       "839080                             NaN          0.000000   \n",
       "\n",
       "        Number of higher volume transactions  Female outgo  Favourite Hour  \n",
       "0                                        1.0      0.930278               1  \n",
       "1                                        NaN      0.803869              20  \n",
       "2                                        1.0      0.020619              15  \n",
       "3                                        NaN     18.566667              17  \n",
       "4                                        1.0      0.020000              14  \n",
       "...                                      ...           ...             ...  \n",
       "839076                                   1.0           NaN               0  \n",
       "839077                                   1.0           NaN              12  \n",
       "839078                                   NaN           NaN              12  \n",
       "839079                                   NaN           NaN              21  \n",
       "839080                                   NaN           NaN              22  \n",
       "\n",
       "[839081 rows x 29 columns]"
      ]
     },
     "execution_count": 4,
     "metadata": {},
     "output_type": "execute_result"
    }
   ],
   "source": [
    "customer_view"
   ]
  },
  {
   "cell_type": "code",
   "execution_count": 28,
   "metadata": {},
   "outputs": [],
   "source": [
    "new_customer_view['Mean time between transactions'].fillna('0 days 00:00:00', inplace=True)"
   ]
  },
  {
   "cell_type": "code",
   "execution_count": 33,
   "metadata": {},
   "outputs": [
    {
     "data": {
      "text/plain": [
       "Number of transactions                          0\n",
       "Number of high volume transactions              0\n",
       "AVG Transaction                                 0\n",
       "AVG Balance                                     0\n",
       "AVG Utilization                                 0\n",
       "CustomerAge                                     0\n",
       "MAX Transaction                                 0\n",
       "MIN Transaction                                 0\n",
       "Number of visits in New Delhi                   0\n",
       "Number of visits in Mumbai                      0\n",
       "Number of visits in Bangalore                   0\n",
       "Favourite day of the week                       0\n",
       "Max Balance                                     0\n",
       "Min Balance                                     0\n",
       "Favourite Month                                 0\n",
       "Transaction when balance higher than the AVG    0\n",
       "Max Utilization                                 0\n",
       "Min Utilization                                 0\n",
       "Mean time between transactions                  0\n",
       "Balance traction                                0\n",
       "Number of higher volume transactions            0\n",
       "Female outgo                                    0\n",
       "Favourite Hour                                  0\n",
       "dtype: int64"
      ]
     },
     "execution_count": 33,
     "metadata": {},
     "output_type": "execute_result"
    }
   ],
   "source": [
    "new_customer_view.isna().sum()"
   ]
  },
  {
   "cell_type": "code",
   "execution_count": 13,
   "metadata": {},
   "outputs": [],
   "source": [
    "new_customer_view = customer_view.drop(columns=['Most common gender', 'Most frequent location', 'Last transaction', 'First transaction'])"
   ]
  },
  {
   "cell_type": "code",
   "execution_count": 54,
   "metadata": {},
   "outputs": [],
   "source": [
    "new_customer_view['Mean time between transactions'] = new_customer_view['Mean time between transactions'].dt.days.astype('int32')"
   ]
  },
  {
   "cell_type": "code",
   "execution_count": 35,
   "metadata": {},
   "outputs": [],
   "source": [
    "new_customer_view['Mean time between transactions'] = new_customer_view['Mean time between transactions'].apply(lambda x: int(x[:-14]))"
   ]
  },
  {
   "cell_type": "code",
   "execution_count": 36,
   "metadata": {},
   "outputs": [
    {
     "name": "stdout",
     "output_type": "stream",
     "text": [
      "<class 'pandas.core.frame.DataFrame'>\n",
      "Index: 839081 entries, C1010011 to C9099956\n",
      "Data columns (total 23 columns):\n",
      " #   Column                                        Non-Null Count   Dtype  \n",
      "---  ------                                        --------------   -----  \n",
      " 0   Number of transactions                        839081 non-null  int64  \n",
      " 1   Number of high volume transactions            839081 non-null  float64\n",
      " 2   AVG Transaction                               839081 non-null  float64\n",
      " 3   AVG Balance                                   839081 non-null  float64\n",
      " 4   AVG Utilization                               839081 non-null  float64\n",
      " 5   CustomerAge                                   839081 non-null  int64  \n",
      " 6   MAX Transaction                               839081 non-null  float64\n",
      " 7   MIN Transaction                               839081 non-null  float64\n",
      " 8   Number of visits in New Delhi                 839081 non-null  float64\n",
      " 9   Number of visits in Mumbai                    839081 non-null  float64\n",
      " 10  Number of visits in Bangalore                 839081 non-null  float64\n",
      " 11  Favourite day of the week                     839081 non-null  int64  \n",
      " 12  Max Balance                                   839081 non-null  float64\n",
      " 13  Min Balance                                   839081 non-null  float64\n",
      " 14  Favourite Month                               839081 non-null  int64  \n",
      " 15  Transaction when balance higher than the AVG  839081 non-null  float64\n",
      " 16  Max Utilization                               839081 non-null  float64\n",
      " 17  Min Utilization                               839081 non-null  float64\n",
      " 18  Mean time between transactions                839081 non-null  int64  \n",
      " 19  Balance traction                              839081 non-null  float64\n",
      " 20  Number of higher volume transactions          839081 non-null  float64\n",
      " 21  Female outgo                                  839081 non-null  float64\n",
      " 22  Favourite Hour                                839081 non-null  int64  \n",
      "dtypes: float64(17), int64(6)\n",
      "memory usage: 153.6+ MB\n"
     ]
    }
   ],
   "source": [
    "new_customer_view.info()"
   ]
  },
  {
   "cell_type": "code",
   "execution_count": 14,
   "metadata": {},
   "outputs": [],
   "source": [
    "new_customer_view.isna().sum()\n",
    "new_customer_view.replace([np.inf, -np.inf], 0, inplace=True)"
   ]
  },
  {
   "cell_type": "markdown",
   "metadata": {},
   "source": [
    "Now we want to set the CustomerID as the index set for our dataframe."
   ]
  },
  {
   "cell_type": "code",
   "execution_count": 16,
   "metadata": {},
   "outputs": [],
   "source": [
    "new_customer_view = new_customer_view.set_index('CustomerID')\n",
    "new_customer_view = new_customer_view.drop(columns=['Unnamed: 0'])"
   ]
  },
  {
   "cell_type": "markdown",
   "metadata": {},
   "source": [
    "Now we have only numerical features, so we can apply PCA. In order to do this, we define our PCA class:"
   ]
  },
  {
   "cell_type": "code",
   "execution_count": 186,
   "metadata": {},
   "outputs": [],
   "source": [
    "class PCA:\n",
    "    def __init__(self, dimension):\n",
    "        self.dimension = dimension\n",
    "\n",
    "    def standardize(self, data):\n",
    "        data = data.copy()\n",
    "        for column in data.columns:\n",
    "            data[column] = (data[column]-data[column].mean())/data[column].std()\n",
    "        return data.to_numpy()\n",
    "            \n",
    "    def decomposition(self,data):\n",
    "        stand = self.standardize(data)\n",
    "        cov_matrix = np.cov(stand, rowvar=False)\n",
    "        eig_vals, eig_vecs = np.linalg.eigh(cov_matrix)\n",
    "        \n",
    "        eigen = [(eig_vals[i], eig_vecs[i,:]) for i in range(len(eig_vals))]\n",
    "        eigen.sort(key=lambda x: x[0], reverse=True)\n",
    "\n",
    "        eig_vals_sorted = np.array([pair[0] for pair in eigen])\n",
    "        eig_vecs_sorted = np.array([pair[1] for pair in eigen])\n",
    "        \n",
    "        self.proj_matrix = eig_vecs_sorted[:self.dimension,:]\n",
    "        self.variance_ratio = [i/np.sum(eig_vals) for i in eig_vals_sorted[:self.dimension]]\n",
    "        self.cumulative_variance_ratio = np.cumsum(self.variance_ratio)\n",
    "        return self\n",
    "\n",
    "    def projection(self, data):\n",
    "        data = data.copy()\n",
    "        stand = self.standardize(data)\n",
    "        proj = stand.dot(self.proj_matrix.T)\n",
    "        \n",
    "        return proj    "
   ]
  },
  {
   "cell_type": "code",
   "execution_count": 187,
   "metadata": {},
   "outputs": [],
   "source": [
    "new = new_customer_view"
   ]
  },
  {
   "cell_type": "code",
   "execution_count": 245,
   "metadata": {},
   "outputs": [],
   "source": [
    "cumulative_variance = {}\n",
    "for i in range(1,23):\n",
    "    projection_matrix = PCA(dimension=i).decomposition(new)\n",
    "    cumulative_variance[i] = projection_matrix.cumulative_variance_ratio[i-1]"
   ]
  },
  {
   "cell_type": "code",
   "execution_count": 259,
   "metadata": {},
   "outputs": [
    {
     "data": {
      "text/plain": [
       "Text(0.5, 1.0, 'Cumulative variance with respect to k components')"
      ]
     },
     "execution_count": 259,
     "metadata": {},
     "output_type": "execute_result"
    },
    {
     "data": {
      "image/png": "[encoded data removed]",
      "text/plain": [
       "<Figure size 640x480 with 1 Axes>"
      ]
     },
     "metadata": {},
     "output_type": "display_data"
    }
   ],
   "source": [
    "xs = list(cumulative_variance.keys())\n",
    "ys = list(cumulative_variance.values())\n",
    "plt.plot(xs,ys,'go', linestyle='dashed')\n",
    "plt.axhline(y=0.7, linestyle = 'dashed')\n",
    "plt.axvline(x = 7)\n",
    "plt.xticks([i for i in range(1,24)])\n",
    "plt.title('Cumulative variance with respect to k components')"
   ]
  },
  {
   "cell_type": "code",
   "execution_count": 243,
   "metadata": {},
   "outputs": [
    {
     "data": {
      "text/plain": [
       "0.25296615829700053"
      ]
     },
     "execution_count": 243,
     "metadata": {},
     "output_type": "execute_result"
    }
   ],
   "source": [
    "PCA(dimension=1).decomposition(new).cumulative_variance_ratio[0]"
   ]
  },
  {
   "cell_type": "code",
   "execution_count": 218,
   "metadata": {},
   "outputs": [],
   "source": [
    "projected = projection_matrix.projection(new)"
   ]
  },
  {
   "cell_type": "code",
   "execution_count": null,
   "metadata": {},
   "outputs": [],
   "source": []
  }
 ],
 "metadata": {
  "kernelspec": {
   "display_name": "Python 3.10.7 64-bit",
   "language": "python",
   "name": "python3"
  },
  "language_info": {
   "codemirror_mode": {
    "name": "ipython",
    "version": 3
   },
   "file_extension": ".py",
   "mimetype": "text/x-python",
   "name": "python",
   "nbconvert_exporter": "python",
   "pygments_lexer": "ipython3",
   "version": "3.10.7"
  },
  "orig_nbformat": 4,
  "vscode": {
   "interpreter": {
    "hash": "38cdd751ff1a78921eff5cc54f687db2b577836ff9e523662c7eedaeda872ff5"
   }
  }
 },
 "nbformat": 4,
 "nbformat_minor": 2
}
